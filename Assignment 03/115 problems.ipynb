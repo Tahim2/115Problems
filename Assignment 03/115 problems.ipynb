{
 "cells": [
  {
   "cell_type": "markdown",
   "id": "31ea92ab",
   "metadata": {},
   "source": [
    "# Basic Problems:"
   ]
  },
  {
   "cell_type": "code",
   "execution_count": null,
   "id": "40d5c903",
   "metadata": {},
   "outputs": [],
   "source": [
    "# 1. Variable Swap: Write a Python program to swap the values of two variables without using a temporary variable.\n",
    "a = input()\n",
    "b= input()\n",
    "a, b = b, a\n",
    "print(a, b)"
   ]
  },
  {
   "cell_type": "code",
   "execution_count": null,
   "id": "bbfc6e5d",
   "metadata": {},
   "outputs": [],
   "source": [
    "# 2. Even or Odd: Write a Python program that takes an integer as input and prints whether it is even or odd.\n",
    "x = int(input())\n",
    "if(x % 2 == 0):\n",
    "    print(\"Even\")\n",
    "else:\n",
    "    print(\"Odd\")"
   ]
  },
  {
   "cell_type": "code",
   "execution_count": null,
   "id": "dcaeb3a5",
   "metadata": {},
   "outputs": [],
   "source": [
    "#3. String Reverse: Write a Python function to reverse a given string and return the reversed string.\n",
    "def my_function(x):\n",
    "  return x[::-1]\n",
    "\n",
    "s = str(input())\n",
    "mytxt = my_function(s)\n",
    "\n",
    "print(mytxt)\n",
    "    "
   ]
  },
  {
   "cell_type": "code",
   "execution_count": null,
   "id": "d27b7ff3",
   "metadata": {},
   "outputs": [],
   "source": [
    "# 4. Type Conversion: Given a list of integers, write a Python program to convert each element of the list to a string.\n",
    "li = [2, 4, 5, 8 , 10]\n",
    "for i in range(len(li)):\n",
    "    li[i] = str(li[i])\n",
    "for i in li:\n",
    "    print(type(i))\n"
   ]
  },
  {
   "cell_type": "code",
   "execution_count": null,
   "id": "51b7ff1c",
   "metadata": {},
   "outputs": [],
   "source": [
    "#5. Temperature Converter: Write a Python program that converts a temperature in Celsius to Fahrenheit. \n",
    "#Take the Celsius temperature as input from the user.\n",
    "\n",
    "c= float(input(\"Enter celsius temperatur: \"))\n",
    "f=(c* 9/5) + 32\n",
    "print(\"Fahrenheit:\", f)\n"
   ]
  },
  {
   "cell_type": "code",
   "execution_count": null,
   "id": "0d893fb8",
   "metadata": {},
   "outputs": [],
   "source": [
    "#6. Data Type Checker: Write a Python function that takes a variable as input and returns the data type of the variable as a string \n",
    "#(e.g., “int”, “float”, “str”, “list”, etc.).\n",
    "def dataType(n):\n",
    "    t = str(type(n))\n",
    "    t = t.split(\"'\")[1]\n",
    "    return t\n",
    "    \n",
    "a =[1, 3, 4, 5]\n",
    "b=3\n",
    "c=\"Tahim\"\n",
    "d=4.5\n",
    "\n",
    "print(dataType(a))\n",
    "print(dataType(b))\n",
    "print(dataType(c))\n",
    "print(dataType(d))\n"
   ]
  },
  {
   "cell_type": "code",
   "execution_count": null,
   "id": "796c361b",
   "metadata": {},
   "outputs": [],
   "source": [
    "#7. String Palindrome: Write a Python function to check if a given string is a palindrome or not.\n",
    "string = input()\n",
    "reverse_String = string[::-1]\n",
    "if string == reverse_String:\n",
    "    print(\"Palindrome\")\n",
    "    \n",
    "else:\n",
    "    print(\"Not Palindrome\")\n",
    "\n"
   ]
  },
  {
   "cell_type": "code",
   "execution_count": null,
   "id": "04250300",
   "metadata": {},
   "outputs": [],
   "source": [
    "#8. String Reversal with Slicing: Write a Python function to reverse a given string using slicing.\n",
    "def reverseString(s):\n",
    "    return s[::-1]\n",
    "\n",
    "s = input()\n",
    "print(reverseString(s))"
   ]
  },
  {
   "cell_type": "code",
   "execution_count": null,
   "id": "2371ce07",
   "metadata": {},
   "outputs": [],
   "source": [
    "# 9. String Concatenation: Write a Python program that takes two strings as input and concatenates them into a single string\n",
    "#without using the `+` operator.\n",
    "s1 = input()\n",
    "s2 = input()\n",
    "\n",
    "def concatenate_String(s1, s2):\n",
    "    result = ''.join([s1, s2])\n",
    "    return result\n",
    "\n",
    "result = concatenate_String(s1, s2)\n",
    "print(result)\n"
   ]
  },
  {
   "cell_type": "code",
   "execution_count": null,
   "id": "8a131121",
   "metadata": {},
   "outputs": [],
   "source": [
    "# 10. Typecasting Challenge: Given three variables: `a = ‘100’`, `b = 25`, and `c = ‘10.5’`, write a Python program to \n",
    "#perform the following operations and print the results: – Convert `a` to an integer and add it to `b`. – Convert `c` to a \n",
    "#float and subtract it from the result of the first operation. – Convert the final result to a string and concatenate it \n",
    "#with the string ” is the answer.”\n",
    "a = '100'\n",
    "b = 25\n",
    "c = '10.5'\n",
    "a = int(a)\n",
    "\n",
    "b += a\n",
    "\n",
    "c = float(c)\n",
    "res = b - c\n",
    "res = str(res)\n",
    "\n",
    "print(res, \"is the answer\")\n"
   ]
  },
  {
   "cell_type": "markdown",
   "id": "55c89f95",
   "metadata": {},
   "source": [
    "# Python Conditional Statements:"
   ]
  },
  {
   "cell_type": "code",
   "execution_count": null,
   "id": "96d06e6a",
   "metadata": {},
   "outputs": [],
   "source": [
    "#11. Positive, Negative, or Zero: Write a Python program that takes a number as input and prints whether it is positive, negative, or zero.\n",
    "\n",
    "\n",
    "def check_number(num):\n",
    "    if num > 0:\n",
    "        print(\"Positive\")\n",
    "    elif num < 0:\n",
    "        print(\"Negative\")\n",
    "    else:\n",
    "        print(\"Zero\")\n",
    "\n",
    "number = float(input(\"Enter a number: \"))\n",
    "check_number(number)"
   ]
  },
  {
   "cell_type": "code",
   "execution_count": null,
   "id": "67bd84e5",
   "metadata": {},
   "outputs": [],
   "source": [
    "#12. Largest of Three Numbers: Write a Python program that takes three numbers as input and prints the largest among them.\n",
    "a,b,c=input().split()\n",
    "print(max(a,b,c))"
   ]
  },
  {
   "cell_type": "code",
   "execution_count": null,
   "id": "ff9e20e9",
   "metadata": {},
   "outputs": [],
   "source": [
    "# 13. Leap Year Checker: Write a Python program that takes a year as input and determines if it is a leap year or not.\n",
    "x = int(input(\"Enter a year: \"))\n",
    "\n",
    "if(x%4==0 and x%100 !=0) or (x%400==0):\n",
    "    print(x,\"is a leap year\")\n",
    "    \n",
    "else:\n",
    "    print(x,\"Is not a leap year\")"
   ]
  },
  {
   "cell_type": "code",
   "execution_count": null,
   "id": "31941aa8",
   "metadata": {},
   "outputs": [],
   "source": [
    "# 14. Grades Classification: Write a Python program that takes a student’s percentage as input and prints their corresponding grade according to the following criteria: – 90% or above: A+ – 80-89%: A – 70-79%: B – 60-69%: C – Below 60%: Fail\n",
    "\n",
    "x = int(input(\"Enter percentage score: \"))\n",
    "while x>100 or x<0:\n",
    "        print(\"Please enter a valid mark\")\n",
    "        x = int(input())\n",
    "if x < 60:\n",
    " print(\"Fail\")\n",
    "elif x>= 60 and x<=69:\n",
    "    print(\"Grade: C\")\n",
    "elif x>= 70 and x<=79:\n",
    "    print(\"Grade: B\")\n",
    "elif x>= 80 and x<=89:\n",
    "    print(\"Grade: A\")\n",
    "elif x>= 90 and x<=100:\n",
    "    print(\"Grade: A+\")"
   ]
  },
  {
   "cell_type": "code",
   "execution_count": null,
   "id": "b21960a9",
   "metadata": {},
   "outputs": [],
   "source": [
    "# 15. Vowel or Consonant: Write a Python program that takes a single character as input and determines whether it is a vowel or a consonant.\n",
    "\n",
    "ch = input()\n",
    "if(ch == 'a' or ch == 'e' or ch == 'i' or ch == 'o' or ch == 'u' or ch == 'A' or ch == 'E' or ch == 'I' or ch == 'O' or ch == 'U' ):\n",
    "    print(ch, \"Is a Vowel\")\n",
    "else:\n",
    "    print(ch,\"Is a consonant\")"
   ]
  },
  {
   "cell_type": "code",
   "execution_count": 1,
   "id": "c9bc2d99",
   "metadata": {},
   "outputs": [
    {
     "name": "stdin",
     "output_type": "stream",
     "text": [
      "Enter the hour (in 24-hour format):  23\n"
     ]
    },
    {
     "name": "stdout",
     "output_type": "stream",
     "text": [
      "Good Night\n"
     ]
    }
   ],
   "source": [
    "#16. Time Classification: Write a Python program that takes the time in hours (24-hour format) as input and prints “Good Morning”, “Good Afternoon”, “Good Evening”, or “Good Night” based on the time.\n",
    "\n",
    "def time_classification(hour):\n",
    "    if 0 <= hour < 12:\n",
    "        print(\"Good Morning\")\n",
    "    elif 12 <= hour < 17:\n",
    "        print(\"Good Afternoon\")\n",
    "    elif 17 <= hour < 20:\n",
    "        print(\"Good Evening\")\n",
    "    else:\n",
    "        print(\"Good Night\")\n",
    "\n",
    "hour = int(input(\"Enter the hour (in 24-hour format): \"))\n",
    "time_classification(hour)"
   ]
  },
  {
   "cell_type": "code",
   "execution_count": null,
   "id": "8427c737",
   "metadata": {},
   "outputs": [],
   "source": [
    "#17. Triangle Type Checker: Write a Python program that takes three sides of a triangle as input and determines whether it forms an equilateral, isosceles, or scalene triangle.\n",
    "\n",
    "def triangle_type(side1, side2, side3):\n",
    "    if side1 == side2 == side3:\n",
    "        print(\"Equilateral triangle\")\n",
    "    elif side1 == side2 or side1 == side3 or side2 == side3:\n",
    "        print(\"Isosceles triangle\")\n",
    "    else:\n",
    "        print(\"Scalene triangle\")\n",
    "\n",
    "        \n",
    "side1 = float(input(\"Enter the length of the first side: \"))\n",
    "side2 = float(input(\"Enter the length of the second side: \"))\n",
    "side3 = float(input(\"Enter the length of the third side: \"))\n",
    "\n",
    "triangle_type(side1, side2, side3)\n"
   ]
  },
  {
   "cell_type": "code",
   "execution_count": null,
   "id": "fb99c50a",
   "metadata": {},
   "outputs": [],
   "source": [
    "# 18. Quadratic Equation Solver: Write a Python program that takes the coefficients (a, b, c) of a quadratic equation as input and calculates and prints the real roots (if they exist) or a message indicating the complex roots.\n",
    "\n",
    "import math\n",
    "a, b, c = map(int, input().split())\n",
    "\n",
    "d = b*b - 4*a*c\n",
    "if d<0:\n",
    "    print(\"Complex root\")\n",
    "else:\n",
    "    x1 = (-b + math.sqrt(d)) / (2*a)\n",
    "    x2 = (-b - math.sqrt(d)) / (2*a)\n",
    "    print(x1, x2)\n",
    "    "
   ]
  },
  {
   "cell_type": "code",
   "execution_count": null,
   "id": "d086ade1",
   "metadata": {},
   "outputs": [],
   "source": [
    "# 19. Number Ranges: Write a Python program that takes an integer as input and prints whether the number falls within the ranges: 0-50, 51-100, 101-150, or above 150.\n",
    "\n",
    "def number_ranges(num):\n",
    "    if 0 <= num <= 50:\n",
    "        print(\"Number falls within the range: 0-50\")\n",
    "    elif 51 <= num <= 100:\n",
    "        print(\"Number falls within the range: 51-100\")\n",
    "    elif 101 <= num <= 150:\n",
    "        print(\"Number falls within the range: 101-150\")\n",
    "    else:\n",
    "        print(\"Number is above 150\")\n",
    "\n",
    "number = int(input(\"Enter a number: \"))\n",
    "number_ranges(number)"
   ]
  },
  {
   "cell_type": "markdown",
   "id": "4cc66e9d",
   "metadata": {},
   "source": [
    "# For & While Loops: "
   ]
  },
  {
   "cell_type": "code",
   "execution_count": null,
   "id": "3cf37d07",
   "metadata": {},
   "outputs": [],
   "source": [
    "# 20. Sum of N Numbers: Write a Python program using a for loop to calculate the sum of the first N natural numbers, where N is taken as input from the user.\n",
    "\n",
    "n = int(input())\n",
    "sum = 0\n",
    "for i in range(n+1):\n",
    "    sum += i\n",
    "\n",
    "print(sum)"
   ]
  },
  {
   "cell_type": "code",
   "execution_count": null,
   "id": "5d5cdd9e",
   "metadata": {},
   "outputs": [],
   "source": [
    "# 21. Factorial Calculator: Write a Python program using a while loop to calculate the factorial of a given number N.\n",
    "\n",
    "n = int(input())\n",
    "if(n ==0):\n",
    "    print(\"0\")\n",
    "else:\n",
    "     i = n\n",
    "     res = 1\n",
    "     while i!=0 :\n",
    "        res *= i\n",
    "        i =i - 1\n",
    "     print(res)"
   ]
  },
  {
   "cell_type": "code",
   "execution_count": null,
   "id": "b8892e68",
   "metadata": {},
   "outputs": [],
   "source": [
    "# 22. Table of a Number: Write a Python program using a for loop to print the multiplication table of a given number N.\n",
    "\n",
    "n = int(input(\"Enter a number: \"))\n",
    "\n",
    "print(\"Multiplication Table for\", n)\n",
    "for i in range(11):\n",
    "  print(n,\"X\",i,\"=\", n*i)\n"
   ]
  },
  {
   "cell_type": "code",
   "execution_count": null,
   "id": "93e9da1f",
   "metadata": {},
   "outputs": [],
   "source": [
    "# 23. Count Digits in a Number: Write a Python program using a while loop to count the number of digits in a given integer N.\n",
    "\n",
    "n = int(input(\"Enter an integer: \"))\n",
    "count = 0\n",
    "while n != 0:\n",
    "    n //= 10  \n",
    "    count += 1\n",
    "print(\"Number of digits:\", count)\n"
   ]
  },
  {
   "cell_type": "code",
   "execution_count": null,
   "id": "aae9ccb1",
   "metadata": {},
   "outputs": [],
   "source": [
    "# 24. Fibonacci Sequence: Write a Python program using a for loop to generate the Fibonacci sequence up to a given limit N.\n",
    "\n",
    "n = int(input(\"Enter how many numbers in the Fibonacci series: \"))\n",
    "\n",
    "if n == 1:\n",
    "    print(\"0\")\n",
    "elif n == 2:\n",
    "    print(\"0 1\")\n",
    "else:\n",
    "    a, b = 0, 1\n",
    "    print(\"0 1\", end=\" \")\n",
    "    for i in range(2, n):\n",
    "        a, b = b, a + b\n",
    "        print(b, end=\" \")\n"
   ]
  },
  {
   "cell_type": "code",
   "execution_count": null,
   "id": "d9e65178",
   "metadata": {},
   "outputs": [],
   "source": [
    "# 25. Sum of Even Numbers: Write a Python program using a while loop to calculate the sum of all even numbers between 1 and N, where N is taken as input from the user.\n",
    "\n",
    "n = int(input())\n",
    "sum = 0\n",
    "i = 2\n",
    "while i<= n:\n",
    "    sum +=i\n",
    "    i+=2\n",
    "    \n",
    "print(sum)\n",
    "   "
   ]
  },
  {
   "cell_type": "code",
   "execution_count": null,
   "id": "20a0e38c",
   "metadata": {},
   "outputs": [],
   "source": [
    "# 26. Print Patterns: Write a Python program using nested for loops to print various patterns, such as a right-angled triangle, an inverted right-angled triangle, and so on.\n",
    "\n",
    "\n",
    "rows = int(input(\"Enter the number of rows: \"))\n",
    "\n",
    "def right_angled_triangle(rows):\n",
    "    print(\"Right-angled triangle\")\n",
    "    for i in range(1, rows + 1):\n",
    "        for j in range(i):\n",
    "            print(\"*\", end=\" \")\n",
    "        print()\n",
    "        \n",
    "def inverted_right_angled_triangle(rows):\n",
    "    print(\"Inverted Right-angled triangle\")\n",
    "    for i in range(rows, 0, -1):\n",
    "        for j in range(i):\n",
    "            print(\"*\", end=\" \")\n",
    "        print()\n",
    "        \n",
    "def pyramid(rows):\n",
    "    print(\"Pyramid\")\n",
    "    for i in range(1, rows + 1):\n",
    "        print(\" \" * (rows - i) + \"* \" * i)\n",
    "        \n",
    "def diamond(rows):\n",
    "    print(\"Diamond\")\n",
    "    for i in range(1, rows + 1):\n",
    "        print(\" \" * (rows - i) + \"* \" * i)\n",
    "    for i in range(rows - 1, 0, -1):\n",
    "        print(\" \" * (rows - i) + \"* \" * i)\n",
    "        \n",
    "        \n",
    "right_angled_triangle(rows)\n",
    "inverted_right_angled_triangle(rows)\n",
    "pyramid(rows)\n",
    "diamond(rows)\n"
   ]
  },
  {
   "cell_type": "code",
   "execution_count": 4,
   "id": "85a79290",
   "metadata": {},
   "outputs": [
    {
     "name": "stdout",
     "output_type": "stream",
     "text": [
      "29\n",
      "29 is a prime\n"
     ]
    }
   ],
   "source": [
    "# 27. Prime Number Checker: Write a Python program using a while loop to check if a given number N is prime or not.\n",
    "\n",
    "n = int(input())\n",
    "bool = True\n",
    "if(n==1):\n",
    "    bool = False\n",
    "else:\n",
    "    i = n-1\n",
    "    while i !=1:\n",
    "        if(n%i ==0):\n",
    "            bool = False\n",
    "            break\n",
    "        i -= 1\n",
    "if(bool):\n",
    "    print(n,\"is a prime\")\n",
    "else:\n",
    "     print(n, \"is not a prime\")"
   ]
  },
  {
   "cell_type": "code",
   "execution_count": 6,
   "id": "73ab646a",
   "metadata": {},
   "outputs": [
    {
     "name": "stdout",
     "output_type": "stream",
     "text": [
      "Enter integers: 1 2 3 4 5 6 7 8 9\n",
      "Sum: 45\n",
      "Average: 5.0\n",
      "Maximum: 9\n",
      "Minimum: 1\n"
     ]
    }
   ],
   "source": [
    "#28. List Manipulation: Given a list of integers, write a Python program using a for loop to find the sum, average, maximum, and minimum values in the list.\n",
    "\n",
    "numbers = [int(x) for x in input(\"Enter integers: \").split()]\n",
    "\n",
    "total = 0\n",
    "count = 0\n",
    "max = numbers[0]\n",
    "min = numbers[0]\n",
    "\n",
    "for num in numbers:\n",
    "    total += num\n",
    "    count += 1\n",
    "    if num > max:\n",
    "        max = num\n",
    "    if num < min:\n",
    "        min = num\n",
    "\n",
    "average = total / count\n",
    "\n",
    "print(\"Sum:\", total)\n",
    "print(\"Average:\", average)\n",
    "print(\"Maximum:\", max)\n",
    "print(\"Minimum:\", min)\n"
   ]
  },
  {
   "cell_type": "code",
   "execution_count": 7,
   "id": "4947fcba",
   "metadata": {},
   "outputs": [
    {
     "name": "stdout",
     "output_type": "stream",
     "text": [
      "Enter a string: Hello\n",
      "Reversed string: olleH\n"
     ]
    }
   ],
   "source": [
    "# 29. Reverse String: Write a Python program using a while loop to reverse a given string.\n",
    "\n",
    "\n",
    "def reverse_string(input_string):\n",
    "    reversed_string = \"\"\n",
    "    index = len(input_string) - 1\n",
    "    \n",
    "    while index >= 0:\n",
    "        reversed_string += input_string[index]\n",
    "        index -= 1\n",
    "    \n",
    "    return reversed_string\n",
    "\n",
    "input_string = input(\"Enter a string: \")\n",
    "reversed_string = reverse_string(input_string)\n",
    "print(\"Reversed string:\", reversed_string)\n",
    "\n"
   ]
  },
  {
   "cell_type": "markdown",
   "id": "4f19ffae",
   "metadata": {},
   "source": [
    "## Nested Loops"
   ]
  },
  {
   "cell_type": "code",
   "execution_count": 10,
   "id": "517a2256",
   "metadata": {},
   "outputs": [
    {
     "name": "stdout",
     "output_type": "stream",
     "text": [
      "Multiplication Table for 1\n",
      "1 * 1 = 1\n",
      "1 * 2 = 2\n",
      "1 * 3 = 3\n",
      "1 * 4 = 4\n",
      "1 * 5 = 5\n",
      "1 * 6 = 6\n",
      "1 * 7 = 7\n",
      "1 * 8 = 8\n",
      "1 * 9 = 9\n",
      "1 * 10 = 10\n",
      "\n",
      "Multiplication Table for 2\n",
      "2 * 1 = 2\n",
      "2 * 2 = 4\n",
      "2 * 3 = 6\n",
      "2 * 4 = 8\n",
      "2 * 5 = 10\n",
      "2 * 6 = 12\n",
      "2 * 7 = 14\n",
      "2 * 8 = 16\n",
      "2 * 9 = 18\n",
      "2 * 10 = 20\n",
      "\n",
      "Multiplication Table for 3\n",
      "3 * 1 = 3\n",
      "3 * 2 = 6\n",
      "3 * 3 = 9\n",
      "3 * 4 = 12\n",
      "3 * 5 = 15\n",
      "3 * 6 = 18\n",
      "3 * 7 = 21\n",
      "3 * 8 = 24\n",
      "3 * 9 = 27\n",
      "3 * 10 = 30\n",
      "\n",
      "Multiplication Table for 4\n",
      "4 * 1 = 4\n",
      "4 * 2 = 8\n",
      "4 * 3 = 12\n",
      "4 * 4 = 16\n",
      "4 * 5 = 20\n",
      "4 * 6 = 24\n",
      "4 * 7 = 28\n",
      "4 * 8 = 32\n",
      "4 * 9 = 36\n",
      "4 * 10 = 40\n",
      "\n",
      "Multiplication Table for 5\n",
      "5 * 1 = 5\n",
      "5 * 2 = 10\n",
      "5 * 3 = 15\n",
      "5 * 4 = 20\n",
      "5 * 5 = 25\n",
      "5 * 6 = 30\n",
      "5 * 7 = 35\n",
      "5 * 8 = 40\n",
      "5 * 9 = 45\n",
      "5 * 10 = 50\n",
      "\n",
      "Multiplication Table for 6\n",
      "6 * 1 = 6\n",
      "6 * 2 = 12\n",
      "6 * 3 = 18\n",
      "6 * 4 = 24\n",
      "6 * 5 = 30\n",
      "6 * 6 = 36\n",
      "6 * 7 = 42\n",
      "6 * 8 = 48\n",
      "6 * 9 = 54\n",
      "6 * 10 = 60\n",
      "\n",
      "Multiplication Table for 7\n",
      "7 * 1 = 7\n",
      "7 * 2 = 14\n",
      "7 * 3 = 21\n",
      "7 * 4 = 28\n",
      "7 * 5 = 35\n",
      "7 * 6 = 42\n",
      "7 * 7 = 49\n",
      "7 * 8 = 56\n",
      "7 * 9 = 63\n",
      "7 * 10 = 70\n",
      "\n",
      "Multiplication Table for 8\n",
      "8 * 1 = 8\n",
      "8 * 2 = 16\n",
      "8 * 3 = 24\n",
      "8 * 4 = 32\n",
      "8 * 5 = 40\n",
      "8 * 6 = 48\n",
      "8 * 7 = 56\n",
      "8 * 8 = 64\n",
      "8 * 9 = 72\n",
      "8 * 10 = 80\n",
      "\n",
      "Multiplication Table for 9\n",
      "9 * 1 = 9\n",
      "9 * 2 = 18\n",
      "9 * 3 = 27\n",
      "9 * 4 = 36\n",
      "9 * 5 = 45\n",
      "9 * 6 = 54\n",
      "9 * 7 = 63\n",
      "9 * 8 = 72\n",
      "9 * 9 = 81\n",
      "9 * 10 = 90\n",
      "\n",
      "Multiplication Table for 10\n",
      "10 * 1 = 10\n",
      "10 * 2 = 20\n",
      "10 * 3 = 30\n",
      "10 * 4 = 40\n",
      "10 * 5 = 50\n",
      "10 * 6 = 60\n",
      "10 * 7 = 70\n",
      "10 * 8 = 80\n",
      "10 * 9 = 90\n",
      "10 * 10 = 100\n",
      "\n"
     ]
    }
   ],
   "source": [
    "# 30. Multiplication Table: Write a Python program using nested loops to print the multiplication table from 1 to 10.\n",
    "\n",
    "for i in range(1, 11):  \n",
    "    print(f\"Multiplication Table for {i}\")\n",
    "    for j in range(1, 11): \n",
    "        \n",
    "        product = i * j\n",
    "        print(f\"{i} * {j} = {product}\")\n",
    "    print() \n"
   ]
  },
  {
   "cell_type": "code",
   "execution_count": 21,
   "id": "952c603c",
   "metadata": {},
   "outputs": [
    {
     "name": "stdout",
     "output_type": "stream",
     "text": [
      "* \n",
      "* * \n",
      "* * * \n",
      "* * * * \n",
      "* * * * * \n"
     ]
    }
   ],
   "source": [
    "# 31. Print Patterns: Write a Python program using nested loops to print the following pattern:\n",
    "for i in range(1, 6):\n",
    "    for j in range(1, i+1):\n",
    "        print(\"*\", end=\" \")\n",
    "    print()"
   ]
  },
  {
   "cell_type": "code",
   "execution_count": 18,
   "id": "eb0bb1fd",
   "metadata": {},
   "outputs": [
    {
     "name": "stdout",
     "output_type": "stream",
     "text": [
      "[30, 24, 18]\n",
      "[84, 69, 54]\n",
      "[138, 114, 90]\n"
     ]
    }
   ],
   "source": [
    "#32. Matrix Multiplication: Write a Python program using nested loops to multiply two matrices.\n",
    "\n",
    "def matrix_multiply(matrix1, matrix2):\n",
    "    result = []\n",
    "    for i in range(len(matrix1)):\n",
    "        row = []\n",
    "        for j in range(len(matrix2[0])):\n",
    "            sum = 0\n",
    "            for k in range(len(matrix2)):\n",
    "                sum += matrix1[i][k] * matrix2[k][j]\n",
    "            row.append(sum)\n",
    "        result.append(row)\n",
    "    return result\n",
    "\n",
    "matrix1 = [[1, 2, 3],\n",
    "           [4, 5, 6],\n",
    "           [7, 8, 9]]\n",
    "\n",
    "matrix2 = [[9, 8, 7],\n",
    "           [6, 5, 4],\n",
    "           [3, 2, 1]]\n",
    "\n",
    "result_matrix = matrix_multiply(matrix1, matrix2)\n",
    "for row in result_matrix:\n",
    "    print(row)"
   ]
  },
  {
   "cell_type": "code",
   "execution_count": 38,
   "id": "9ac18c15",
   "metadata": {},
   "outputs": [
    {
     "name": "stdout",
     "output_type": "stream",
     "text": [
      "Chessboard Pattern:\n",
      "0 X 0 X 0 \n",
      "X 0 X 0 X \n",
      "0 X 0 X 0 \n",
      "X 0 X 0 X \n",
      "0 X 0 X 0 \n",
      "\n",
      "Number Pyramid:\n",
      "1 \n",
      "2 2 \n",
      "3 3 3 \n",
      "4 4 4 4 \n",
      "5 5 5 5 5 \n"
     ]
    }
   ],
   "source": [
    "#33. Chessboard Pattern: Write a Python program using nested loops to print a chessboard pattern (alternating “X” and “O” characters) of size 8×8.34. Number Pyramid: Write a Python program using nested loops to print a number pyramid like the following: 1 22 333 4444 55555\n",
    "print(\"Chessboard Pattern:\")\n",
    "for i in range(1, 6):\n",
    "    for j in range(1, 6):\n",
    "        if((i+j)%2==0):\n",
    "            print(\"0\", end=\" \")\n",
    "            \n",
    "        else:\n",
    "            print(\"X\", end=\" \")\n",
    "    print()\n",
    "# Number Pyramid: Write a Python program using nested loops to print a number pyramid like the following: 1 22 333 4444 55555   \n",
    "print(\"\\nNumber Pyramid:\")\n",
    "for i in range(1, 6):\n",
    "    for j in range(1, i+1):\n",
    "        print(f\"{i}\", end=\" \")\n",
    "    print()"
   ]
  },
  {
   "cell_type": "markdown",
   "id": "b3c104f3",
   "metadata": {},
   "source": [
    "# List Problem"
   ]
  },
  {
   "cell_type": "code",
   "execution_count": 41,
   "id": "2ed2d793",
   "metadata": {},
   "outputs": [
    {
     "name": "stdout",
     "output_type": "stream",
     "text": [
      "55\n"
     ]
    }
   ],
   "source": [
    "#34. List Sum: Write a Python program to find the sum of all elements in a given list of integers.\n",
    "list = [1, 2, 3, 4, 5, 6, 7, 8, 9, 10]\n",
    "sum = 0\n",
    "for i in list:\n",
    "    sum += i\n",
    "    \n",
    "print(sum)"
   ]
  },
  {
   "cell_type": "code",
   "execution_count": 42,
   "id": "e166c8b7",
   "metadata": {},
   "outputs": [
    {
     "name": "stdout",
     "output_type": "stream",
     "text": [
      "5.5\n"
     ]
    }
   ],
   "source": [
    "#35. List Average: Write a Python program to calculate the average of all elements in a given list of integers.\n",
    "\n",
    "list = [1, 2, 3, 4, 5, 6, 7, 8, 9, 10]\n",
    "sum = 0\n",
    "for i in list:\n",
    "    sum += i\n",
    "    \n",
    "avg = sum / 10\n",
    "print(avg)"
   ]
  },
  {
   "cell_type": "code",
   "execution_count": 47,
   "id": "585f1ea0",
   "metadata": {},
   "outputs": [
    {
     "name": "stdout",
     "output_type": "stream",
     "text": [
      "Minimum: 1\n",
      "Maximum: 10\n"
     ]
    }
   ],
   "source": [
    "#36. List Max and Min: Write a Python program to find the maximum and minimum values in a given list of integers.\n",
    "\n",
    "list = [1, 2, 3, 4, 5, 6, 7, 8, 9, 10]\n",
    "max = list[0]\n",
    "min = list[0]\n",
    "\n",
    "for i in list:\n",
    "    if i > max:\n",
    "        max = i\n",
    "        \n",
    "    if i < min:\n",
    "        min = i\n",
    "\n",
    "print(\"Minimum:\",min)\n",
    "print(\"Maximum:\",max)"
   ]
  },
  {
   "cell_type": "code",
   "execution_count": 49,
   "id": "e57cf79b",
   "metadata": {},
   "outputs": [
    {
     "name": "stdout",
     "output_type": "stream",
     "text": [
      "[1, 2, 3, 4, 5, 6, 7, 8, 9, 10]\n"
     ]
    }
   ],
   "source": [
    "# 37. List Sorting: Write a Python program to sort a list of integers in ascending order.\n",
    "\n",
    "list = [10, 9, 7, 3, 1, 6, 4, 8, 2, 5]\n",
    "list.sort()\n",
    "print(list)"
   ]
  },
  {
   "cell_type": "code",
   "execution_count": 2,
   "id": "3ac4b023",
   "metadata": {},
   "outputs": [
    {
     "name": "stdout",
     "output_type": "stream",
     "text": [
      "[10, 6, 4, 8, 2]\n"
     ]
    }
   ],
   "source": [
    "#38. List Filtering: Given a list of integers, write a Python program to create a new list that contains only the even numbers from the original list.\n",
    "\n",
    "list = [10, 9, 7, 3, 1, 6, 4, 8, 2, 5]\n",
    "list2 = []\n",
    "for i in list:\n",
    "    if(i%2 == 0):\n",
    "        list2.append(i)\n",
    "    \n",
    "print(list2)"
   ]
  },
  {
   "cell_type": "code",
   "execution_count": 6,
   "id": "66da558b",
   "metadata": {},
   "outputs": [
    {
     "name": "stdout",
     "output_type": "stream",
     "text": [
      "[10, 9, 8, 7, 6, 5, 4, 3, 2, 1]\n"
     ]
    }
   ],
   "source": [
    "# 39. List Reversal: Write a Python program to reverse a given list without using any built-in functions.\n",
    "list = [1, 2, 3, 4, 5, 6, 7, 8, 9, 10]\n",
    "list2=[]\n",
    "for i in range(len(list), 0,-1):\n",
    "    list2.append(i)\n",
    "    \n",
    "print(list2)"
   ]
  },
  {
   "cell_type": "code",
   "execution_count": 8,
   "id": "5d307696",
   "metadata": {},
   "outputs": [
    {
     "name": "stdout",
     "output_type": "stream",
     "text": [
      "[2, 4, 6, 8, 10]\n"
     ]
    }
   ],
   "source": [
    "# 40. List Manipulation: Given two lists of integers, write a Python program to create a new list that contains elements common to both lists.\n",
    "list = [1, 2, 3, 4, 5, 6, 7, 8, 9, 10]\n",
    "list2 = [11, 2, 13, 4, 15, 6, 17, 8, 19, 10]\n",
    "newList = []\n",
    "for i in list:\n",
    "    for j in list2:\n",
    "        if (i == j):\n",
    "            newList.append(j)\n",
    "print(newList)"
   ]
  },
  {
   "cell_type": "code",
   "execution_count": 11,
   "id": "f14b294f",
   "metadata": {},
   "outputs": [
    {
     "name": "stdout",
     "output_type": "stream",
     "text": [
      "3\n"
     ]
    }
   ],
   "source": [
    "# 41. List Element Count: Write a Python program to count the occurrences of a specific element in a given list.\n",
    "list = [1, 2, 3, 2, 5, 6, 7, 8, 2, 10]\n",
    "item = 2\n",
    "\n",
    "count = sum(1 for x in list if x==item)\n",
    "print(count)\n"
   ]
  },
  {
   "cell_type": "code",
   "execution_count": 14,
   "id": "ad4e0ffb",
   "metadata": {},
   "outputs": [
    {
     "name": "stdout",
     "output_type": "stream",
     "text": [
      "[1, 2, 3, 5, 6, 7, 9, 10]\n"
     ]
    }
   ],
   "source": [
    "#42. List Duplicates Removal: Write a Python program to remove duplicates from a given list while preserving the order of the elements.\n",
    "list = [1, 2, 3, 2, 5, 6, 7, 2, 9, 10]\n",
    "result=[]\n",
    "for i in list:\n",
    "    if i not in result:\n",
    "        result.append(i)\n",
    "        \n",
    "print(result)"
   ]
  },
  {
   "cell_type": "code",
   "execution_count": 16,
   "id": "f205aa9a",
   "metadata": {},
   "outputs": [
    {
     "name": "stdout",
     "output_type": "stream",
     "text": [
      "[1, 4, 9, 4, 25, 36, 49, 64, 4, 100]\n"
     ]
    }
   ],
   "source": [
    "# 43. List Comprehension: Given a list of integers, write a Python program to create a new list that contains the squares of the elements using list comprehension.\n",
    "list = [1, 2, 3, 2, 5, 6, 7, 8, 2, 10]\n",
    "newList = [x**2 for x in list]\n",
    "print(newList)"
   ]
  },
  {
   "cell_type": "markdown",
   "id": "9975dd44",
   "metadata": {},
   "source": [
    "## Nested List Problems:"
   ]
  },
  {
   "cell_type": "code",
   "execution_count": 17,
   "id": "0be9224e",
   "metadata": {},
   "outputs": [
    {
     "name": "stdout",
     "output_type": "stream",
     "text": [
      "Enter the value of m\n",
      "2\n",
      "Enter the value of n\n",
      "2\n",
      "Enter Matrix A\n",
      "Enter output_Matrix[0][0]1\n",
      "Enter output_Matrix[0][1]2\n",
      "Enter output_Matrix[1][0]3\n",
      "Enter output_Matrix[1][1]4\n",
      "[[1, 2], [3, 4]]\n",
      "Enter Matrix B\n",
      "Enter output_Matrix[0][0]5\n",
      "Enter output_Matrix[0][1]6\n",
      "Enter output_Matrix[1][0]7\n",
      "Enter output_Matrix[1][1]8\n",
      "[[5, 6], [7, 8]]\n",
      "[[6, 8], [10, 12]]\n"
     ]
    }
   ],
   "source": [
    "# 44. Matrix Addition: Write a Python program to add two matrices represented as nested lists.\n",
    "def matrix(m, n):\n",
    "  output_Matrix = []\n",
    "  for i in range(m):\n",
    "    row = []\n",
    "    for j in range(n):\n",
    "        inp = int(input(f\"Enter output_Matrix[{i}][{j}]\"))\n",
    "        row.append(inp)\n",
    "    output_Matrix.append(row)\n",
    "  return output_Matrix\n",
    "\n",
    "def sum(A, B):\n",
    "  output = []\n",
    "  for i in range(len(A)):\n",
    "    row = []\n",
    "    for j in range(len(A[0])):\n",
    "      row.append(A[i][j]+B[i][j])\n",
    "    output.append(row)\n",
    "  return output\n",
    "\n",
    "m = int(input(\"Enter the value of m\\n\"))\n",
    "n = int(input(\"Enter the value of n\\n\"))\n",
    "\n",
    "print(\"Enter Matrix A\")\n",
    "A = matrix(m, n)\n",
    "\n",
    "print(A)\n",
    "\n",
    "print(\"Enter Matrix B\")\n",
    "B = matrix(m,n)\n",
    "print(B)\n",
    "\n",
    "s = sum(A, B)\n",
    "print(s)\n"
   ]
  },
  {
   "cell_type": "code",
   "execution_count": 18,
   "id": "515c4335",
   "metadata": {},
   "outputs": [
    {
     "name": "stdout",
     "output_type": "stream",
     "text": [
      "[1, 2, 3, 4, 5, 6, 7]\n"
     ]
    }
   ],
   "source": [
    "#45. Flatten Nested List: Write a Python program to flatten a given nested list and convert it into a single-dimensional list.\n",
    "\n",
    "my_list = [[1, 2, 3], [2, 3], [4, 2, 6, 7]]\n",
    "\n",
    "flat_list = []\n",
    "for sublist in my_list:\n",
    "    for num in sublist:\n",
    "        flat_list.append(num)\n",
    "\n",
    "print(flat_list)"
   ]
  },
  {
   "cell_type": "code",
   "execution_count": 19,
   "id": "24c83f36",
   "metadata": {},
   "outputs": [
    {
     "name": "stdout",
     "output_type": "stream",
     "text": [
      "[1, 2, 3, 2, 3, 4, 2, 6, 7]\n",
      "Element Frequency:\n",
      "1: 1\n",
      "2: 3\n",
      "3: 2\n",
      "4: 1\n",
      "6: 1\n",
      "7: 1\n"
     ]
    }
   ],
   "source": [
    "#46. List Element Frequency: Given a nested list containing lists of integers, write a Python program to count the frequency of each element in the entire nested list.\n",
    "\n",
    "def count_element_frequency(lst):\n",
    "    frequency = {}\n",
    "    for element in lst:\n",
    "        if element in frequency:\n",
    "            frequency[element] += 1\n",
    "        else:\n",
    "            \n",
    "            frequency[element] = 1\n",
    "    return frequency\n",
    "\n",
    "my_list = [[1, 2, 3], [2, 3], [4, 2, 6, 7]]\n",
    "\n",
    "flat_list = []\n",
    "for sublist in my_list:\n",
    "    for num in sublist:\n",
    "        flat_list.append(num)\n",
    "\n",
    "print(flat_list)\n",
    "\n",
    "element_frequency = count_element_frequency(flat_list)\n",
    "print(\"Element Frequency:\")\n",
    "for element, freq in element_frequency.items():\n",
    "    print(f\"{element}: {freq}\")\n"
   ]
  },
  {
   "cell_type": "code",
   "execution_count": 28,
   "id": "9b2d3926",
   "metadata": {},
   "outputs": [
    {
     "name": "stdout",
     "output_type": "stream",
     "text": [
      "[[1, 4, 7], [2, 5, 8], [3, 6, 9]]\n"
     ]
    }
   ],
   "source": [
    "# 47. Transpose Matrix: Write a Python program to transpose a given matrix represented as a nested list.\n",
    "\n",
    "\n",
    "\n",
    "A = [[1,2,3], [4,5,6], [7,8,9]]\n",
    "transposed =[]\n",
    "for i in range(len(A[0])):\n",
    "    row = []\n",
    "    for j in range(len(A)):\n",
    "        row.append(A[j][i])\n",
    "    transposed.append(row)   \n",
    "print(transposed)"
   ]
  },
  {
   "cell_type": "code",
   "execution_count": 30,
   "id": "e35f28f2",
   "metadata": {},
   "outputs": [
    {
     "name": "stdout",
     "output_type": "stream",
     "text": [
      "[1, 2, 3, 4, 5, 6, 7, 8]\n"
     ]
    }
   ],
   "source": [
    "# 48. List of Lists Concatenation: Given a list of nested lists, write a Python program to concatenate all the sublists into a single flat list.\n",
    "\n",
    "def flatten_list(nested_list):\n",
    "    flat_list = []\n",
    "    for sublist in nested_list:\n",
    "        flat_list.extend(sublist)\n",
    "    return flat_list\n",
    "\n",
    "nested_list = [[1, 2, 3], [4, 5], [6, 7, 8]]\n",
    "result = flatten_list(nested_list)\n",
    "print(result)"
   ]
  },
  {
   "cell_type": "markdown",
   "id": "e919d711",
   "metadata": {},
   "source": [
    "## Tuple Problems"
   ]
  },
  {
   "cell_type": "code",
   "execution_count": 1,
   "id": "260b90af",
   "metadata": {},
   "outputs": [
    {
     "name": "stdout",
     "output_type": "stream",
     "text": [
      "('a', 'b', 'c', 1, 2, 3)\n"
     ]
    }
   ],
   "source": [
    "# 49. Tuple Concatenation: Write a Python program to concatenate two tuples and create a new tuple.\n",
    "\n",
    "tuple1 = (\"a\", \"b\" , \"c\")\n",
    "tuple2 = (1, 2, 3)\n",
    "\n",
    "tuple3 = tuple1 + tuple2\n",
    "print(tuple3)"
   ]
  },
  {
   "cell_type": "code",
   "execution_count": 2,
   "id": "10f5b49e",
   "metadata": {},
   "outputs": [
    {
     "name": "stdout",
     "output_type": "stream",
     "text": [
      "apple\n",
      "banana\n",
      "cherry\n"
     ]
    }
   ],
   "source": [
    "#50. Tuple Unpacking: Given a tuple with three elements (x, y, z), write a Python program to unpack the tuple and assign the values to three variables.\n",
    "\n",
    "fruits = (\"apple\", \"banana\", \"cherry\")\n",
    "\n",
    "(x, y, z) = fruits\n",
    "\n",
    "print(x)\n",
    "print(y)\n",
    "print(z)\n",
    "    "
   ]
  },
  {
   "cell_type": "code",
   "execution_count": 2,
   "id": "f0ff2924",
   "metadata": {},
   "outputs": [
    {
     "name": "stdout",
     "output_type": "stream",
     "text": [
      "(1, 2, 3, 5, 6, 8, 9)\n"
     ]
    }
   ],
   "source": [
    "#51. Tuple Sorting: Write a Python program to sort a tuple of integers in ascending order.\n",
    "\n",
    "t = (1,6,3,8,5,9,2)\n",
    "sorted = tuple(sorted(t))\n",
    "print(sorted)"
   ]
  },
  {
   "cell_type": "code",
   "execution_count": 3,
   "id": "3f81fb8e",
   "metadata": {},
   "outputs": [
    {
     "name": "stdout",
     "output_type": "stream",
     "text": [
      "3\n"
     ]
    }
   ],
   "source": [
    "# 52. Tuple Frequency Count: Given a tuple containing various elements, write a Python program to count the frequency of a specific element in the tuple.\n",
    "\n",
    "t = (1,6,2,8,2,9,2)\n",
    "item = 2\n",
    "count = sum(1 for i in t if i== item)\n",
    "print(count)"
   ]
  },
  {
   "cell_type": "code",
   "execution_count": 4,
   "id": "e30253e9",
   "metadata": {},
   "outputs": [
    {
     "name": "stdout",
     "output_type": "stream",
     "text": [
      "[1, 6, 3, 8, 5, 9, 2]\n"
     ]
    }
   ],
   "source": [
    "# 53. Tuple to List: Write a Python program to convert a tuple into a list.\n",
    "\n",
    "t = (1,6,3,8,5,9,2)\n",
    "l = list(t)\n",
    "print(l)"
   ]
  },
  {
   "cell_type": "code",
   "execution_count": 10,
   "id": "5413a5b7",
   "metadata": {},
   "outputs": [
    {
     "name": "stdout",
     "output_type": "stream",
     "text": [
      "(2, 9, 5, 8, 3, 6, 1)\n"
     ]
    }
   ],
   "source": [
    "# 54. Tuple Reversal: Write a Python program to reverse a tuple without using any built-in functions.\n",
    "\n",
    "t = (1,6,3,8,5,9,2)\n",
    "new= ()\n",
    "for i in range(len(t)-1, -1, -1):\n",
    "    new += (t[i],)\n",
    "print(new)"
   ]
  },
  {
   "cell_type": "code",
   "execution_count": 12,
   "id": "d8f19f43",
   "metadata": {},
   "outputs": [
    {
     "name": "stdout",
     "output_type": "stream",
     "text": [
      "(6, 3, 8, 5, 9)\n"
     ]
    }
   ],
   "source": [
    "# 55. Tuple Slicing: Given a tuple, write a Python program to extract a slice of elements from it.\n",
    "\n",
    "t = (1,6,3,8,5,9,2)\n",
    "sliced = t[1:6]\n",
    "print(sliced)"
   ]
  },
  {
   "cell_type": "code",
   "execution_count": 13,
   "id": "770e996c",
   "metadata": {},
   "outputs": [
    {
     "name": "stdout",
     "output_type": "stream",
     "text": [
      "(5, 7, 9)\n",
      "(-3, -3, -3)\n",
      "(4, 10, 18)\n"
     ]
    }
   ],
   "source": [
    "#56. Tuple Operations: Given two tuples of integers, write a Python program to perform element-wise addition, subtraction, and multiplication and create new tuples for each operation.\n",
    "\n",
    "tuple1 = (1, 2, 3)\n",
    "tuple2 = (4, 5, 6)\n",
    "\n",
    "add = tuple(tuple1[i] + tuple2[i] for i in range(len(tuple1)))\n",
    "\n",
    "sub = tuple(tuple1[i] - tuple2[i] for i in range(len(tuple1)))\n",
    "    \n",
    "mult= tuple(tuple1[i] * tuple2[i] for i in range(len(tuple1)))\n",
    "\n",
    "\n",
    "print(add)\n",
    "print(sub)\n",
    "print(mult)"
   ]
  },
  {
   "cell_type": "code",
   "execution_count": 17,
   "id": "7b66d439",
   "metadata": {},
   "outputs": [
    {
     "name": "stdout",
     "output_type": "stream",
     "text": [
      "4\n",
      "4 is not fount in tuple\n"
     ]
    }
   ],
   "source": [
    "# 57. Tuple Membership Test: Write a Python program that takes an element as input and checks if it exists in a given tuple.\n",
    "\n",
    "t = (1,6,3,8,5,9,2)\n",
    "item=int(input())\n",
    "bool = False\n",
    "for i in t:\n",
    "    if i == item:\n",
    "        bool = True\n",
    "        break\n",
    "if(bool):\n",
    "    print(item,\"is found in tuple\")\n",
    "else:\n",
    "    print(item,\"is not fount in tuple\")"
   ]
  },
  {
   "cell_type": "code",
   "execution_count": 18,
   "id": "4fd62e52",
   "metadata": {},
   "outputs": [
    {
     "name": "stdout",
     "output_type": "stream",
     "text": [
      "Packed Tuple: (10, 'hello', [1, 2, 3])\n"
     ]
    }
   ],
   "source": [
    "# 58. Tuple Packing: Write a Python program to pack three variables into a single tuple and print the tuple.\n",
    "\n",
    "var1 = 10\n",
    "var2 = \"hello\"\n",
    "var3 = [1, 2, 3]\n",
    "\n",
    "packed_tuple = (var1, var2, var3)\n",
    "\n",
    "print(\"Packed Tuple:\", packed_tuple)"
   ]
  },
  {
   "cell_type": "markdown",
   "id": "ed1213dc",
   "metadata": {},
   "source": [
    "## Nested List"
   ]
  },
  {
   "cell_type": "code",
   "execution_count": 29,
   "id": "45465328",
   "metadata": {},
   "outputs": [
    {
     "name": "stdout",
     "output_type": "stream",
     "text": [
      "2\n",
      "1\n",
      "8\n",
      "Enter row index: 2\n",
      "Enter column index: 1\n",
      "8\n"
     ]
    }
   ],
   "source": [
    "#59. Nested List Element Access: Given a nested list, write a Python program to access and print specific elements from it.\n",
    "\n",
    "nested_list = [[1, 2, 3], [4, 5, 6], [7, 8, 9]]\n",
    "\n",
    "row=int(input())\n",
    "col=int(input())\n",
    "for i in range(len(nested_list)):\n",
    "    for j in range(len(nested_list[i])):\n",
    "        if i==row and j == col:\n",
    "            print(nested_list[i][j])\n",
    "\n",
    "#or\n",
    "nested_list = [[1, 2, 3], [4, 5, 6], [7, 8, 9]]\n",
    "\n",
    "row = int(input(\"Enter row index: \"))\n",
    "col = int(input(\"Enter column index: \"))\n",
    "\n",
    "if row < len(nested_list) and col < len(nested_list[0]):\n",
    "    print(nested_list[row][col])\n",
    "else:\n",
    "    print(\"Invalid row or column index\")\n"
   ]
  },
  {
   "cell_type": "code",
   "execution_count": 30,
   "id": "7905b06f",
   "metadata": {},
   "outputs": [
    {
     "name": "stdout",
     "output_type": "stream",
     "text": [
      "[1, 2, 3, 4, 5, 6, 7, 8, 9]\n"
     ]
    }
   ],
   "source": [
    "# 60. Nested List Flattening: Write a Python program to flatten a nested list and convert it into a single-dimensional list.\n",
    "\n",
    "nested_list = [[1, 2, 3], [4, 5, 6], [7, 8, 9]]\n",
    "flat = []\n",
    "for i in range(len(nested_list)):\n",
    "    for j in range(len(nested_list[i])):\n",
    "        flat.append(nested_list[i][j])\n",
    "print(flat)"
   ]
  },
  {
   "cell_type": "code",
   "execution_count": 3,
   "id": "491c9720",
   "metadata": {},
   "outputs": [
    {
     "name": "stdout",
     "output_type": "stream",
     "text": [
      "[[4], [7, 8], [1, 2, 3]]\n"
     ]
    }
   ],
   "source": [
    "#61. Nested List Sorting: Given a nested list containing lists of integers, write a Python program to sort the sublists based on their lengths.\n",
    "\n",
    "nested_list = [[1, 2, 3], [4], [7, 8]]\n",
    "\n",
    "sorted_nested_list = sorted(nested_list, key=len)\n",
    "\n",
    "print(sorted_nested_list)\n"
   ]
  },
  {
   "cell_type": "code",
   "execution_count": 5,
   "id": "05b42661",
   "metadata": {},
   "outputs": [
    {
     "name": "stdout",
     "output_type": "stream",
     "text": [
      "[1, 3, 5]\n",
      "[2, 4, 6]\n"
     ]
    }
   ],
   "source": [
    "# 62. List of Tuples Conversion: Given a nested list containing tuples of (x, y) coordinates, write a Python program to convert it into a list of x-coordinates and a list of y-coordinates.\n",
    "\n",
    "nested_list = [(1, 2), (3, 4), (5, 6)]\n",
    "\n",
    "x = [i[0] for i in nested_list]\n",
    "y = [i[1] for i in nested_list]\n",
    "print(x)\n",
    "print(y)"
   ]
  },
  {
   "cell_type": "code",
   "execution_count": 11,
   "id": "07522236",
   "metadata": {},
   "outputs": [
    {
     "name": "stdout",
     "output_type": "stream",
     "text": [
      "[[1, 4, 7], [2, 5, 8], [3, 6, 9]]\n"
     ]
    }
   ],
   "source": [
    "# 63. Matrix Transpose: Write a Python program to transpose a given matrix represented as a nested list.\n",
    "\n",
    "l= [[1, 2, 3], [4, 5, 6], [7, 8, 9]]\n",
    "transposed = []\n",
    "for i in range(len(l[0])):\n",
    "    row = []\n",
    "    for j in range(len(l)):\n",
    "        row.append(l[j][i])\n",
    "    transposed.append(row)\n",
    "print(transposed)"
   ]
  },
  {
   "cell_type": "code",
   "execution_count": 12,
   "id": "e7a5a626",
   "metadata": {},
   "outputs": [
    {
     "name": "stdout",
     "output_type": "stream",
     "text": [
      "[1, 2, 3, 4, 5, 6, 7, 8]\n"
     ]
    }
   ],
   "source": [
    "# 64. Nested List Concatenation: Given a list of nested lists, write a Python program to concatenate all the sublists into a single flat list.\n",
    "def flatten_list(nested_list):\n",
    "    flat_list = []\n",
    "    for sublist in nested_list:\n",
    "        flat_list.extend(sublist)\n",
    "    return flat_list\n",
    "\n",
    "nested_list = [[1, 2, 3], [4, 5], [6, 7, 8]]\n",
    "result = flatten_list(nested_list)\n",
    "print(result)"
   ]
  },
  {
   "cell_type": "code",
   "execution_count": 17,
   "id": "8d8a0330",
   "metadata": {},
   "outputs": [
    {
     "name": "stdout",
     "output_type": "stream",
     "text": [
      "4\n"
     ]
    }
   ],
   "source": [
    "# 65. Count Even Numbers: Write a Python program to count the number of even numbers in a nested list.\n",
    "l  = [[1, 2, 3], [4, 5], [6, 7, 8]]\n",
    "count = 0\n",
    "for i in range(len(l[0])):\n",
    "    for j in range(len(l[i])):\n",
    "        if (l[i][j] % 2 == 0):\n",
    "            count += 1\n",
    "print(count)"
   ]
  },
  {
   "cell_type": "code",
   "execution_count": 21,
   "id": "0c4fb925",
   "metadata": {},
   "outputs": [
    {
     "name": "stdout",
     "output_type": "stream",
     "text": [
      "9\n"
     ]
    }
   ],
   "source": [
    "# 66. Maximum Element in Nested List: Write a Python program to find the maximum element in a nested list of integers.\n",
    "l = [[1, 2, 3], [4, 5, 9], [6, 7, 8]]\n",
    "max = l[0][0]\n",
    "for sublist in l:\n",
    "    for element in sublist:\n",
    "        if element > max:\n",
    "            max = element\n",
    "print(max)"
   ]
  },
  {
   "cell_type": "code",
   "execution_count": 25,
   "id": "1a039a2b",
   "metadata": {},
   "outputs": [
    {
     "name": "stdout",
     "output_type": "stream",
     "text": [
      "14\n"
     ]
    }
   ],
   "source": [
    "#67. Diagonal Sum of Matrix: Given a square matrix represented as a nested list, write a Python program to calculate the sum of the elements in the main diagonal.\n",
    "\n",
    "l  = [[1, 2, 3], [4, 5, 9], [6, 7, 8]]\n",
    "sum = 0\n",
    "for i in range(len(l[0])):\n",
    "    for j in range(len(l[i])):\n",
    "        if i == j:\n",
    "            sum += l[i][j]\n",
    "            \n",
    "print(sum)"
   ]
  },
  {
   "cell_type": "code",
   "execution_count": 26,
   "id": "3708e5e7",
   "metadata": {},
   "outputs": [
    {
     "name": "stdout",
     "output_type": "stream",
     "text": [
      "7\n",
      "l[2][1] = 7\n"
     ]
    }
   ],
   "source": [
    "# 68. Nested List Element Search: Write a Python program to search for a specific element in a nested list and return its position (row and column indices).\n",
    "l  = [[1, 2, 3], [4, 5, 9], [6, 7, 8]]\n",
    "item = int(input())\n",
    "for i in range(len(l[0])):\n",
    "    for j in range(len(l[i])):\n",
    "        if l[i][j] == item:\n",
    "            print(f\"l[{i}][{j}] = {item}\")"
   ]
  },
  {
   "cell_type": "code",
   "execution_count": 31,
   "id": "73e9983c",
   "metadata": {},
   "outputs": [
    {
     "name": "stdout",
     "output_type": "stream",
     "text": [
      "1 2 3 4 5 6 2 4 \n",
      "{1, 2, 3, 4, 5, 6}\n"
     ]
    }
   ],
   "source": [
    "# 69. Duplicate Removal: Write a Python program that takes a list of elements as input and creates a new set containing only the unique elements from the list.\n",
    "\n",
    "l = [int(i) for i in input().split()]\n",
    "\n",
    "s = set(l)\n",
    "print(s)"
   ]
  },
  {
   "cell_type": "code",
   "execution_count": 35,
   "id": "06c644d3",
   "metadata": {},
   "outputs": [
    {
     "name": "stdout",
     "output_type": "stream",
     "text": [
      "{2, 4, 6}\n"
     ]
    }
   ],
   "source": [
    "# 70. Set Intersection: Given two sets A and B, write a Python program to find their intersection and print the common elements.\n",
    "set1 = {1, 2, 3, 4, 5, 6}\n",
    "set2 = {2, 4, 6}\n",
    "set3 = set1.intersection(set2)\n",
    "print(set3)"
   ]
  },
  {
   "cell_type": "code",
   "execution_count": 37,
   "id": "3b7e69c1",
   "metadata": {},
   "outputs": [
    {
     "name": "stdout",
     "output_type": "stream",
     "text": [
      "{1, 2, 3, 4, 5, 6, 7}\n"
     ]
    }
   ],
   "source": [
    "# 71. Set Union: Given two sets A and B, write a Python program to find their union and print all the distinct elements from both sets.\n",
    "set1 = {1, 2, 3, 4, 5, 6}\n",
    "set2 = {2, 4, 6, 7}\n",
    "set3 = set1.union(set2)\n",
    "print(set3)"
   ]
  },
  {
   "cell_type": "code",
   "execution_count": 40,
   "id": "191abab1",
   "metadata": {},
   "outputs": [
    {
     "name": "stdout",
     "output_type": "stream",
     "text": [
      "{7}\n"
     ]
    }
   ],
   "source": [
    "# 72. Set Difference: Given two sets A and B, write a Python program to find the difference between set A and set B (i.e., elements present in A but not in B) and print the result.\n",
    "set1 = {1, 2, 3, 4, 5, 6}\n",
    "set2 = {2, 4, 6, 7}\n",
    "set3 = set2.difference(set1)\n",
    "print(set3)"
   ]
  },
  {
   "cell_type": "code",
   "execution_count": 42,
   "id": "89f940bf",
   "metadata": {},
   "outputs": [
    {
     "name": "stdout",
     "output_type": "stream",
     "text": [
      "{1, 3, 5, 7}\n"
     ]
    }
   ],
   "source": [
    "#73. Set Symmetric Difference: Given two sets A and B, write a Python program to find the symmetric difference between the two sets (i.e., elements that are present in either set A or set B, but not in both) and print the result.\n",
    "\n",
    "set1 = {1, 2, 3, 4, 5, 6}\n",
    "set2 = {2, 4, 6, 7}\n",
    "symmetric_diff = set1.symmetric_difference(set2)\n",
    "print(symmetric_diff)\n"
   ]
  },
  {
   "cell_type": "code",
   "execution_count": 44,
   "id": "8c958325",
   "metadata": {},
   "outputs": [
    {
     "name": "stdout",
     "output_type": "stream",
     "text": [
      "Intersection of A and B: {4, 5}\n",
      "Union of B and C: {3, 4, 5, 6, 7, 8, 9, 10}\n",
      "Difference between C and A: {9, 10}\n"
     ]
    }
   ],
   "source": [
    "# 74. Set Operations: Given three sets A, B, and C, write a Python program to find and print the intersection of A and B, the union of B and C, and the difference between C and A.\n",
    "\n",
    "A = {1, 2, 3, 4, 5}\n",
    "B = {4, 5, 6, 7, 8}\n",
    "C = {3, 4, 5, 9, 10}\n",
    "print(\"Intersection of A and B:\", A.intersection(B))\n",
    "print(\"Union of B and C:\", B.union(C))\n",
    "print(\"Difference between C and A:\", C.difference(A))"
   ]
  },
  {
   "cell_type": "code",
   "execution_count": 46,
   "id": "81aa38ec",
   "metadata": {},
   "outputs": [
    {
     "name": "stdout",
     "output_type": "stream",
     "text": [
      "False\n"
     ]
    }
   ],
   "source": [
    "# 75. Set Subset Check: Given two sets A and B, write a Python program to check if set A is a subset of set B and print the result.\n",
    "\n",
    "superset = {1, 2, 3, 4, 5}  \n",
    "subset = {8, 4}  \n",
    "result = subset.issubset(superset)  \n",
    "print(result)  "
   ]
  },
  {
   "cell_type": "code",
   "execution_count": 50,
   "id": "2052a64f",
   "metadata": {},
   "outputs": [
    {
     "name": "stdout",
     "output_type": "stream",
     "text": [
      "True\n"
     ]
    }
   ],
   "source": [
    "#76. Set Superset Check: Given two sets A and B, write a Python program to check if set A is a superset of set B and print the result.\n",
    "\n",
    "superset = {1, 2, 3, 4, 5} \n",
    "subset = {2, 4}  \n",
    "result = superset.issuperset(subset)  \n",
    "print(result)  "
   ]
  },
  {
   "cell_type": "code",
   "execution_count": 55,
   "id": "3dee34bb",
   "metadata": {},
   "outputs": [
    {
     "name": "stdout",
     "output_type": "stream",
     "text": [
      "1 2 3 4 5 6\n",
      "Number of elements:  6\n",
      "{1, 2, 3, 4, 5, 6}\n"
     ]
    }
   ],
   "source": [
    "# 77. Set Length Check: Write a Python program that takes a set as input and prints the number of elements in the set.\n",
    "\n",
    "s = {int(i) for i in input().split()}\n",
    "\n",
    "l = len(s)\n",
    "print(\"Number of elements: \", len(s))\n",
    "print(s)"
   ]
  },
  {
   "cell_type": "code",
   "execution_count": 57,
   "id": "a133ebea",
   "metadata": {},
   "outputs": [
    {
     "name": "stdout",
     "output_type": "stream",
     "text": [
      "1 2 3 4 5 6\n",
      "5\n",
      "Found\n"
     ]
    }
   ],
   "source": [
    "# 76. Set Membership Test: Write a Python program that takes an element as input and checks if it exists in a given set. Print “Found” if the element is present and “Not Found” otherwise.\n",
    "s = {int(i) for i in input().split()}\n",
    "item = int(input())\n",
    "bool = False\n",
    "for i in range(len(s)):\n",
    "    if i == item:\n",
    "        bool = True\n",
    "        break\n",
    "if(bool):\n",
    "    print(\"Found\")\n",
    "else:\n",
    "    print(\"Not Found\")"
   ]
  },
  {
   "cell_type": "markdown",
   "id": "508627c6",
   "metadata": {},
   "source": [
    "## Dictionary problem"
   ]
  },
  {
   "cell_type": "code",
   "execution_count": 60,
   "id": "8582fd5a",
   "metadata": {},
   "outputs": [
    {
     "name": "stdout",
     "output_type": "stream",
     "text": [
      "{'Akash': 50, 'Niloy': 55, 'Bijoy': 80, 'Rahat': 90}\n"
     ]
    }
   ],
   "source": [
    "#77. Dictionary Manipulation: Given a dictionary with student names as keys and their corresponding scores as values, write a Python program to add a new student to the dictionary and update the score of an existing student.\n",
    "dict = {\n",
    "    'Akash' : 50,\n",
    "    'Niloy' : 60,\n",
    "    'Bijoy' : 80\n",
    "}\n",
    "\n",
    "dict['Rahat'] = 90\n",
    "dict['Niloy'] = 55\n",
    "print(dict)"
   ]
  },
  {
   "cell_type": "code",
   "execution_count": 67,
   "id": "2329c1eb",
   "metadata": {},
   "outputs": [
    {
     "name": "stdout",
     "output_type": "stream",
     "text": [
      "key:  Akash\n",
      "Value: 50\n",
      "\n",
      "key:  Niloy\n",
      "Value: 60\n",
      "\n",
      "key:  Bijoy\n",
      "Value: 80\n",
      "\n"
     ]
    }
   ],
   "source": [
    "# 78. Dictionary Keys and Values: Write a Python program that takes a dictionary as input and prints all the keys and values in separate lines.\n",
    "dict = {\n",
    "    'Akash' : 50,\n",
    "    'Niloy' : 60,\n",
    "    'Bijoy' : 80\n",
    "}\n",
    "for key, value in dict.items():\n",
    "    print(\"key: \", key)\n",
    "    print(\"Value:\", value)\n",
    "    print()"
   ]
  },
  {
   "cell_type": "code",
   "execution_count": 68,
   "id": "5a82d574",
   "metadata": {},
   "outputs": [
    {
     "name": "stdout",
     "output_type": "stream",
     "text": [
      "3\n"
     ]
    }
   ],
   "source": [
    "# 79. Dictionary Length: Write a Python program to calculate and print the number of key-value pairs in a given dictionary.\n",
    "dict = {\n",
    "    'Akash' : 50,\n",
    "    'Niloy' : 60,\n",
    "    'Bijoy' : 80\n",
    "}\n",
    "pairs = len(dict)\n",
    "print(pairs)"
   ]
  },
  {
   "cell_type": "code",
   "execution_count": 69,
   "id": "57a0ec54",
   "metadata": {},
   "outputs": [
    {
     "name": "stdout",
     "output_type": "stream",
     "text": [
      "banana\n"
     ]
    }
   ],
   "source": [
    "#80. Dictionary Value Search: Given a dictionary of items and their prices, write a Python program to search for an item based on its price and print the item’s name.\n",
    "dict = {\n",
    "    'Apple' : 50,\n",
    "    'mango' : 60,\n",
    "    'banana' : 80\n",
    "}\n",
    "price = 80\n",
    "for key, value in dict.items():\n",
    "    if(value == price ):\n",
    "        print(key)\n",
    "        break"
   ]
  },
  {
   "cell_type": "code",
   "execution_count": 72,
   "id": "4d40d009",
   "metadata": {},
   "outputs": [
    {
     "name": "stdout",
     "output_type": "stream",
     "text": [
      "{'Akash': 50, 'Niloy': 60, 'Bijoy': 80, 'Apple': 50, 'mango': 60, 'banana': 80}\n"
     ]
    }
   ],
   "source": [
    "# 81. Dictionary Merging: Given two dictionaries, write a Python program to merge them into a single dictionary and print the result.\n",
    "dict1 = {\n",
    "    'Akash' : 50,\n",
    "    'Niloy' : 60,\n",
    "    'Bijoy' : 80\n",
    "}\n",
    "dict2 = {\n",
    "    'Apple' : 50,\n",
    "    'mango' : 60,\n",
    "    'banana' : 80\n",
    "}\n",
    "dict1.update(dict2)\n",
    "print(dict1)"
   ]
  },
  {
   "cell_type": "code",
   "execution_count": 76,
   "id": "1815ec7f",
   "metadata": {},
   "outputs": [
    {
     "name": "stdout",
     "output_type": "stream",
     "text": [
      "Bijoy\n",
      "{'Akash': 50, 'Niloy': 60}\n"
     ]
    }
   ],
   "source": [
    "# 82. Dictionary Key Removal: Given a dictionary of items and their quantities, write a Python program to remove a specific item from the dictionary based on user input.\n",
    "dict = {\n",
    "    'Akash' : 50,\n",
    "    'Niloy' : 60,\n",
    "    'Bijoy' : 80\n",
    "}\n",
    "item = input()\n",
    "del dict[item]\n",
    "print(dict)"
   ]
  },
  {
   "cell_type": "code",
   "execution_count": 4,
   "id": "eb41a0e8",
   "metadata": {},
   "outputs": [
    {
     "name": "stdout",
     "output_type": "stream",
     "text": [
      "{'Joy': 30, 'Akash': 50, 'Niloy': 60, 'Bijoy': 80}\n"
     ]
    }
   ],
   "source": [
    "# 83. Dictionary Sorting: Given a dictionary with names as keys and corresponding ages as values, write a Python program to sort the dictionary based on age in ascending order.\n",
    "my_dict = {\n",
    "    'Akash' : 50,\n",
    "    'Niloy' : 60,\n",
    "    'Bijoy' : 80,\n",
    "    'Joy' : 30\n",
    "}\n",
    "sorted_dict =dict( sorted(my_dict.items(), key=lambda item:item[1]))\n",
    "print(sorted_dict)\n"
   ]
  },
  {
   "cell_type": "code",
   "execution_count": 2,
   "id": "c5cdba59",
   "metadata": {},
   "outputs": [
    {
     "name": "stdout",
     "output_type": "stream",
     "text": [
      "Abba\n",
      "{'a': 2, 'b': 2}\n"
     ]
    }
   ],
   "source": [
    "# 84. Dictionary Frequency Count: Write a Python program that takes a string as input and creates a dictionary containing each character as a key and its frequency as the value.\n",
    "\n",
    "def count_duplicates(lst):\n",
    "    freq = {}\n",
    "    for i in lst:\n",
    "        if i in freq:\n",
    "            freq[i] += 1\n",
    "        else:\n",
    "            freq[i] = 1\n",
    "    return freq   \n",
    "    \n",
    "    \n",
    "lst = str(input())\n",
    "print(count_duplicates(lst))"
   ]
  },
  {
   "cell_type": "code",
   "execution_count": 3,
   "id": "7e2406cb",
   "metadata": {},
   "outputs": [
    {
     "name": "stdout",
     "output_type": "stream",
     "text": [
      "{1: 1, 2: 4, 3: 9, 4: 16, 5: 25}\n"
     ]
    }
   ],
   "source": [
    "# 85. Dictionary Comprehension: Given a list of integers, write a Python program to create a dictionary where the keys are the elements from the list, and the values are their squares.\n",
    "def create_dict(lst):\n",
    "    dict = {}\n",
    "    for i in lst:\n",
    "        dict[i] = i**2\n",
    "    return dict\n",
    "\n",
    "lst = [1, 2, 3, 4, 5]\n",
    "print(create_dict(lst))"
   ]
  },
  {
   "cell_type": "code",
   "execution_count": 2,
   "id": "ecc8c578",
   "metadata": {},
   "outputs": [
    {
     "name": "stdin",
     "output_type": "stream",
     "text": [
      " Lichi\n"
     ]
    },
    {
     "name": "stdout",
     "output_type": "stream",
     "text": [
      "Key Not Found\n"
     ]
    }
   ],
   "source": [
    "# 86. Dictionary Key Check: Write a Python program that takes a key as input and checks if it exists in a given dictionary. Print “Key Found” if the key is present and “Key Not Found” otherwise.\n",
    "\n",
    "def search_word(lexicon, word):\n",
    "    word = word.lower()\n",
    "    if lexicon.get(word):\n",
    "        print(\"Key Found\")\n",
    "    else:\n",
    "        print(\"Key Not Found\")\n",
    "\n",
    "dict = {\n",
    "    \"apple\" : 70,\n",
    "    \"mango\" : 60,\n",
    "    \"orange\" : 60,\n",
    "    \"grapes\" : 80\n",
    "}\n",
    "\n",
    "word = str(input())\n",
    "search_word(dict, word)"
   ]
  },
  {
   "cell_type": "code",
   "execution_count": 7,
   "id": "d93be685",
   "metadata": {},
   "outputs": [
    {
     "name": "stdin",
     "output_type": "stream",
     "text": [
      "Enter student ID (s1, s2, s3):  s2\n"
     ]
    },
    {
     "name": "stdout",
     "output_type": "stream",
     "text": [
      "Name: John\n",
      "Age: 22\n",
      "Address: New York\n"
     ]
    }
   ],
   "source": [
    "# 87. Access Nested Dictionary: Given a nested dictionary containing student details, write a Python program to access and print specific information such as a student’s name, age, and address.\n",
    "s1 = {\n",
    "    \"name\": \"Ashhik\",\n",
    "    \"age\": 20,\n",
    "    \"address\": \"Dhaka\"\n",
    "}\n",
    "\n",
    "s2 = {\n",
    "    \"name\": \"John\",\n",
    "    \"age\": 22,\n",
    "    \"address\": \"New York\"\n",
    "}\n",
    "\n",
    "s3 = {\n",
    "    \"name\": \"Alice\",\n",
    "    \"age\": 21,\n",
    "    \"address\": \"London\"\n",
    "}\n",
    "\n",
    "students = {\n",
    "    \"s1\": s1,\n",
    "    \"s2\": s2,\n",
    "    \"s3\": s3\n",
    "}\n",
    "\n",
    "student_id = input(\"Enter student ID (s1, s2, s3): \")\n",
    "\n",
    "\n",
    "if student_id in students:\n",
    "    student = students[student_id]\n",
    "    print(f\"Name: {student['name']}\")\n",
    "    print(f\"Age: {student['age']}\")\n",
    "    print(f\"Address: {student['address']}\")\n",
    "else:\n",
    "    print(\"Student not found.\")\n"
   ]
  },
  {
   "cell_type": "code",
   "execution_count": 2,
   "id": "3ee9fa7b-ee7f-4e13-a8ec-c150d43f6686",
   "metadata": {},
   "outputs": [
    {
     "name": "stdout",
     "output_type": "stream",
     "text": [
      "Total number of key-value pairs in the nested dictionary: 9\n"
     ]
    }
   ],
   "source": [
    "# 88. Nested Dictionary Length: Write a Python program to calculate and print the total number of key-value pairs in a nested dictionary.\n",
    "def count_nested_dict_items(nested_dict):\n",
    "    count = 0\n",
    "    for value in nested_dict.values():\n",
    "        if type(value) == dict:\n",
    "            count += count_nested_dict_items(value)\n",
    "        else:\n",
    "            count += 1\n",
    "    return count\n",
    "\n",
    "# Example usage:\n",
    "s1 = {\"name\": \"Ashhik\", \"age\": 20, \"address\": \"Dhaka\"}\n",
    "s2 = {\"name\": \"John\", \"age\": 22, \"address\": \"New York\"}\n",
    "s3 = {\"name\": \"Alice\", \"age\": 21, \"address\": \"London\"}\n",
    "\n",
    "students = {\"s1\": s1, \"s2\": s2, \"s3\": s3}\n",
    "\n",
    "total_items = count_nested_dict_items(students)\n",
    "print(\"Total number of key-value pairs in the nested dictionary:\", total_items)\n"
   ]
  },
  {
   "cell_type": "code",
   "execution_count": 7,
   "id": "afdf4d05-cef8-4cae-af38-164f4ee4e1f7",
   "metadata": {},
   "outputs": [
    {
     "name": "stdin",
     "output_type": "stream",
     "text": [
      "Enter student ID (e1, e2, e3):  e2\n"
     ]
    },
    {
     "name": "stdout",
     "output_type": "stream",
     "text": [
      "Salar of e2: 22000\n"
     ]
    }
   ],
   "source": [
    "# 89. Nested Dictionary Update: Given a nested dictionary of employee details, write a Python program to update an employee’s salary based on their employee ID.\n",
    "\n",
    "e1 = {\n",
    "    \"name\": \"Ashhik\",\n",
    "    \"salary\": 20000,\n",
    "    \"address\": \"Dhaka\"\n",
    "}\n",
    "\n",
    "e2 = {\n",
    "    \"name\": \"John\",\n",
    "    \"salary\": 22000,\n",
    "    \"address\": \"New York\"\n",
    "}\n",
    "\n",
    "e3 = {\n",
    "    \"name\": \"Alice\",\n",
    "    \"salary\": 23000,\n",
    "    \"address\": \"London\"\n",
    "}\n",
    "\n",
    "employees = {\n",
    "    \"e1\": e1,\n",
    "    \"e2\": e2,\n",
    "    \"e3\": e3\n",
    "}\n",
    "\n",
    "employee_id = input(\"Enter student ID (e1, e2, e3): \")\n",
    "\n",
    "if employee_id in employees:\n",
    "    employee = employees[employee_id]\n",
    "    print(f\"Salar of {employee_id}: {employee['salary']}\")\n",
    "else:\n",
    "    print(\"Employee not found.\")"
   ]
  },
  {
   "cell_type": "code",
   "execution_count": 13,
   "id": "0974711d-8059-4661-b9b0-5028cf424880",
   "metadata": {},
   "outputs": [
    {
     "name": "stdout",
     "output_type": "stream",
     "text": [
      "Product: Samsung, Price: 70000, Quantity: 8\n",
      "Product: Pixel, Price: 90000, Quantity: 4\n",
      "Product: Iphone, Price: 100000, Quantity: 5\n"
     ]
    }
   ],
   "source": [
    "# 90. Nested Dictionary Sorting: Given a nested dictionary containing product details (product name, price, and quantity), write a Python program to sort the products based on their prices in ascending order.\n",
    "\n",
    "p1 = {\n",
    "    \"name\": \"Iphone\",\n",
    "    \"price\": 100000,\n",
    "    \"quantity\": 5\n",
    "}\n",
    "p2 = {\n",
    "    \"name\": \"Pixel\",\n",
    "    \"price\": 90000,\n",
    "    \"quantity\": 4\n",
    "}\n",
    "p3 = {\n",
    "    \"name\": \"Samsung\",\n",
    "    \"price\": 70000,\n",
    "    \"quantity\": 8\n",
    "}\n",
    "\n",
    "products = {\n",
    "    \"Iphone\": p1,\n",
    "    \"Pixel\": p2,\n",
    "    \"Samsung\": p3\n",
    "}\n",
    "\n",
    "sorted_products = sorted(products.items(), key=lambda x: x[1]['price'])\n",
    "\n",
    "for key, product in sorted_products:\n",
    "    print(f\"Product: {key}, Price: {product['price']}, Quantity: {product['quantity']}\")\n",
    "\n"
   ]
  },
  {
   "cell_type": "code",
   "execution_count": 16,
   "id": "7c240b21-8524-47f6-b7dc-394997960da8",
   "metadata": {},
   "outputs": [
    {
     "name": "stdin",
     "output_type": "stream",
     "text": [
      "Enter the key to search:  Iphone\n"
     ]
    },
    {
     "name": "stdout",
     "output_type": "stream",
     "text": [
      "The value for key 'Iphone' is: {'name': 'Iphone', 'price': 100000, 'quantity': 5}\n"
     ]
    }
   ],
   "source": [
    "#91. Nested Dictionary Key Search: Write a Python program that takes a key as input and searches for it in a nested dictionary. If found, print the corresponding value, otherwise, print “Key Not Found.”\n",
    "\n",
    "def search_nested_dict(dictionary, key):\n",
    "    if key in dictionary:\n",
    "        return dictionary[key]\n",
    "    for value in dictionary.values():\n",
    "        if isinstance(value, dict):\n",
    "            result = search_nested_dict(value, key)\n",
    "            if result is not None:\n",
    "                return result\n",
    "    return None\n",
    "\n",
    "p1 = {\n",
    "    \"name\": \"Iphone\",\n",
    "    \"price\": 100000,\n",
    "    \"quantity\": 5\n",
    "}\n",
    "p2 = {\n",
    "    \"name\": \"Pixel\",\n",
    "    \"price\": 90000,\n",
    "    \"quantity\": 4\n",
    "}\n",
    "p3 = {\n",
    "    \"name\": \"Samsung\",\n",
    "    \"price\": 70000,\n",
    "    \"quantity\": 8\n",
    "}\n",
    "\n",
    "products = {\n",
    "    \"Iphone\": p1,\n",
    "    \"Pixel\": p2,\n",
    "    \"Samsung\": p3\n",
    "}\n",
    "\n",
    "key_to_search = input(\"Enter the key to search: \")\n",
    "\n",
    "result = search_nested_dict(products, key_to_search)\n",
    "\n",
    "if result is not None:\n",
    "    print(f\"The value for key '{key_to_search}' is: {result}\")\n",
    "else:\n",
    "    print(\"Key Not Found.\")\n"
   ]
  },
  {
   "cell_type": "code",
   "execution_count": 10,
   "id": "01eb60dc-c354-46e9-89d7-37064bfc2898",
   "metadata": {},
   "outputs": [
    {
     "name": "stdin",
     "output_type": "stream",
     "text": [
      " 29\n"
     ]
    },
    {
     "name": "stdout",
     "output_type": "stream",
     "text": [
      "29 Is a prime number\n"
     ]
    }
   ],
   "source": [
    "# 92. Prime Number Checker: Write a Python program that takes a number as input and determines if it is a prime number or not. Use a `for` loop to check for factors. If a factor is found, `break` out of the loop.\n",
    "n = int(input())\n",
    "bool = True\n",
    "if(n==1):\n",
    "    bool = False\n",
    "else:\n",
    "    for i in range(2, int(n/2), 1):\n",
    "        if n%i == 0:\n",
    "            bool = False\n",
    "            break\n",
    "if(bool):\n",
    "    print(n, \"Is a prime number\")\n",
    "else:\n",
    "    print(n, \"Is not a prime number\")"
   ]
  },
  {
   "cell_type": "code",
   "execution_count": 13,
   "id": "a9f03611-3706-44de-9fea-75ec80961be9",
   "metadata": {},
   "outputs": [
    {
     "name": "stdout",
     "output_type": "stream",
     "text": [
      "2 4 6 8 10 12 14 16 18 20 "
     ]
    }
   ],
   "source": [
    "# 93. Even Number Printer: Write a Python program to print all even numbers from 1 to 20. Use a `for` loop and `continue` to skip odd numbers.\n",
    "for i in range(1, 21):\n",
    "    if i%2 != 0:\n",
    "        continue\n",
    "    else:\n",
    "        print(i, end=\" \")"
   ]
  },
  {
   "cell_type": "code",
   "execution_count": 15,
   "id": "ac6b4f77-06c0-4253-a414-2a537569c8fd",
   "metadata": {},
   "outputs": [
    {
     "name": "stdin",
     "output_type": "stream",
     "text": [
      "Enter your password:  abutahimh\n"
     ]
    },
    {
     "name": "stdout",
     "output_type": "stream",
     "text": [
      "Invalid password. Please make sure your password is at least 8 characters long, contains both uppercase and lowercase letters, and has at least one digit.\n"
     ]
    },
    {
     "name": "stdin",
     "output_type": "stream",
     "text": [
      "Enter your password:  snhdgjsjcjg\n"
     ]
    },
    {
     "name": "stdout",
     "output_type": "stream",
     "text": [
      "Invalid password. Please make sure your password is at least 8 characters long, contains both uppercase and lowercase letters, and has at least one digit.\n"
     ]
    },
    {
     "name": "stdin",
     "output_type": "stream",
     "text": [
      "Enter your password:  djhAjbdj1\n"
     ]
    },
    {
     "name": "stdout",
     "output_type": "stream",
     "text": [
      "Password accepted.\n"
     ]
    }
   ],
   "source": [
    "# 94. Password Validator: Write a Python program that takes a password as input and checks if it meets the following criteria: at least 8 characters long, contains both uppercase and lowercase letters, and has at least one digit. If the password is valid, print “Password accepted.” If not, use `continue` to prompt the user to enter a valid password.\n",
    "\n",
    "def is_valid_password(password):\n",
    "    if len(password) < 8:\n",
    "        return False\n",
    "    has_uppercase = False\n",
    "    has_lowercase = False\n",
    "    has_digit = False\n",
    "    for char in password:\n",
    "        if char.isupper():\n",
    "            has_uppercase = True\n",
    "        elif char.islower():\n",
    "            has_lowercase = True\n",
    "        elif char.isdigit():\n",
    "            has_digit = True\n",
    "    return has_uppercase and has_lowercase and has_digit\n",
    "\n",
    "while True:\n",
    "    password = input(\"Enter your password: \")\n",
    "    if not is_valid_password(password):\n",
    "        print(\"Invalid password. Please make sure your password is at least 8 characters long, contains both uppercase and lowercase letters, and has at least one digit.\")\n",
    "        continue\n",
    "    print(\"Password accepted.\")\n",
    "    break\n"
   ]
  },
  {
   "cell_type": "code",
   "execution_count": 17,
   "id": "ae978069-f3df-414e-b379-5295e76d0b3d",
   "metadata": {},
   "outputs": [
    {
     "name": "stdout",
     "output_type": "stream",
     "text": [
      "3 5 6 9 10 12 15 18 20 21 24 25 27 30 33 35 36 39 40 42 45 48 50 "
     ]
    }
   ],
   "source": [
    "# 95. Divisible by 3 or 5: Write a Python program to print all numbers from 1 to 50 that are divisible by either 3 or 5. Use a `for` loop and `continue` to skip numbers that are not divisible by either 3 or 5.\n",
    "\n",
    "for i in range(1, 51):\n",
    "    if i%3 != 0 and i%5 != 0:\n",
    "        continue\n",
    "    else:\n",
    "        print(i, end=\" \")"
   ]
  },
  {
   "cell_type": "code",
   "execution_count": 5,
   "id": "7d94855e-f4a0-424b-a7f0-1692cc278ea5",
   "metadata": {},
   "outputs": [
    {
     "name": "stdin",
     "output_type": "stream",
     "text": [
      " 1\n",
      " 4\n",
      " 5\n",
      " 6\n",
      " 7\n",
      " 3\n",
      " 6\n",
      " -2\n"
     ]
    },
    {
     "name": "stdout",
     "output_type": "stream",
     "text": [
      "32\n"
     ]
    }
   ],
   "source": [
    "# 96. Positive Number Sum: Write a Python program that takes positive numbers as input until a negative number is entered. Then, calculate and print the sum of all positive numbers entered. Use a `while` loop and `break` to exit the loop when a negative number is encountered.\n",
    "sum = 0\n",
    "while True:\n",
    "    n = int(input())\n",
    "    if(n <0) :\n",
    "        break\n",
    "    sum += n\n",
    "print(sum)"
   ]
  },
  {
   "cell_type": "code",
   "execution_count": 6,
   "id": "8ddbb870-b826-4b59-bd48-22c9176a93c2",
   "metadata": {},
   "outputs": [
    {
     "name": "stdin",
     "output_type": "stream",
     "text": [
      "Enter a word (enter 'quit' to exit):  Abba\n"
     ]
    },
    {
     "name": "stdout",
     "output_type": "stream",
     "text": [
      "The word 'abba' is a palindrome.\n"
     ]
    },
    {
     "name": "stdin",
     "output_type": "stream",
     "text": [
      "Enter a word (enter 'quit' to exit):  quit\n"
     ]
    }
   ],
   "source": [
    "# 97. Word Palindrome Checker: Write a Python program that takes a word as input and checks if it is a palindrome (reads the same forwards and backward). Use `continue` to skip checking the word if its length is less than 3 characters.\n",
    "\n",
    "while True:\n",
    "    word = input(\"Enter a word (enter 'quit' to exit): \")\n",
    "    word = word.lower()\n",
    "    if word == 'quit':\n",
    "        break\n",
    "    \n",
    "    if len(word) < 3:\n",
    "        print(\"Word length is less than 3 characters. Skipping.\")\n",
    "        continue\n",
    "    \n",
    "    if word == word[::-1]:\n",
    "        print(\"The word '{}' is a palindrome.\".format(word))\n",
    "    else:\n",
    "        print(\"The word '{}' is not a palindrome.\".format(word))\n"
   ]
  },
  {
   "cell_type": "code",
   "execution_count": 12,
   "id": "9672f45e-dbfe-4fc2-987d-c80da361c85c",
   "metadata": {},
   "outputs": [
    {
     "name": "stdout",
     "output_type": "stream",
     "text": [
      "3\n"
     ]
    }
   ],
   "source": [
    "# 98. Odd Number Finder: Write a Python program to find the first odd number from a list of integers. Use a `for` loop and `break` to stop the loop when the first odd number is found.\n",
    "lst = [2, 4, 6, 8, 3, 5]\n",
    "for i in lst:\n",
    "    if i%2 != 0:\n",
    "        print(i)\n",
    "        break"
   ]
  },
  {
   "cell_type": "code",
   "execution_count": 1,
   "id": "2255a4da-d184-4397-8dc6-de882ee01e01",
   "metadata": {},
   "outputs": [
    {
     "name": "stdin",
     "output_type": "stream",
     "text": [
      " 2 \n"
     ]
    },
    {
     "name": "stdout",
     "output_type": "stream",
     "text": [
      "Guess a right number: \n"
     ]
    },
    {
     "name": "stdin",
     "output_type": "stream",
     "text": [
      " 4\n"
     ]
    },
    {
     "name": "stdout",
     "output_type": "stream",
     "text": [
      "Guess a right number: \n"
     ]
    },
    {
     "name": "stdin",
     "output_type": "stream",
     "text": [
      " 5\n"
     ]
    },
    {
     "name": "stdout",
     "output_type": "stream",
     "text": [
      "Guess a right number: \n"
     ]
    },
    {
     "name": "stdin",
     "output_type": "stream",
     "text": [
      " 7\n"
     ]
    },
    {
     "name": "stdout",
     "output_type": "stream",
     "text": [
      "Guess a right number: \n"
     ]
    },
    {
     "name": "stdin",
     "output_type": "stream",
     "text": [
      " -1\n"
     ]
    }
   ],
   "source": [
    "# 99. Number Guessing Game: Write a Python program that generates a random number between 1 and 100 and lets the user guess the number. Use a `while` loop, `break` when the correct number is guessed, and `continue` to keep prompting the user until they guess correctly.\n",
    "import random\n",
    "random_number = random.randint(0, 100)\n",
    "while True:\n",
    "    n = int(input())\n",
    "    if n == -1:\n",
    "        break\n",
    "    if n == random_number:\n",
    "        print(\"Found\")\n",
    "        break\n",
    "    else:\n",
    "        print(\"Guess a right number: \")\n",
    "        continue"
   ]
  },
  {
   "cell_type": "code",
   "execution_count": 5,
   "id": "72d63ab3-f216-45ef-ba9d-9fdc6f1f7737",
   "metadata": {},
   "outputs": [
    {
     "name": "stdin",
     "output_type": "stream",
     "text": [
      " i love you\n"
     ]
    },
    {
     "name": "stdout",
     "output_type": "stream",
     "text": [
      "5\n"
     ]
    }
   ],
   "source": [
    "# 100. Vowel Counter: Write a Python program that takes a string as input and counts the number of vowels (a, e, i, o, u) in it. Use a `for` loop and `continue` to skip counting non-vowel characters.\n",
    "word = str(input())\n",
    "count = 0\n",
    "for i in range(len(word)):\n",
    "    if word[i] != 'a' and word[i] != 'e' and word[i] != 'i' and word[i] != 'o' and word[i] != 'u':\n",
    "        continue\n",
    "    count += 1\n",
    "print(count)"
   ]
  },
  {
   "cell_type": "code",
   "execution_count": 9,
   "id": "67275305-7a71-4c38-aca8-884373fad5b3",
   "metadata": {},
   "outputs": [
    {
     "name": "stdin",
     "output_type": "stream",
     "text": [
      " asdfghjkl\n"
     ]
    },
    {
     "name": "stdout",
     "output_type": "stream",
     "text": [
      "ALl the characters are unique\n"
     ]
    }
   ],
   "source": [
    "# 101. Unique Characters: Write a Python program that takes a string as input and checks if it contains all unique characters (no character repeats). Use a `for` loop and `break` when a character repeats.\n",
    "def unique(string):\n",
    "    seen = set()\n",
    "    for char in string:\n",
    "        if char in seen:\n",
    "            return False\n",
    "        seen.add(char)\n",
    "    return True\n",
    "\n",
    "string = input()\n",
    "if unique(string):\n",
    "    print(\"ALl the characters are unique\")\n",
    "else:\n",
    "    print(\"String contains duplicate characters\")"
   ]
  },
  {
   "cell_type": "markdown",
   "id": "ab9453ed-ab5a-4156-8ab8-37ce4ddbbae8",
   "metadata": {},
   "source": [
    "## Functions roblems"
   ]
  },
  {
   "cell_type": "code",
   "execution_count": 12,
   "id": "b4d115e5-c3e9-4323-b8ef-edefaee556b1",
   "metadata": {},
   "outputs": [
    {
     "name": "stdin",
     "output_type": "stream",
     "text": [
      " 5\n"
     ]
    },
    {
     "name": "stdout",
     "output_type": "stream",
     "text": [
      "120\n"
     ]
    }
   ],
   "source": [
    "# 101. Unique Characters: Write a Python program that takes a string as input and checks if it contains all unique characters (no character repeats). Use a `for` loop and `break` when a character repeats.\n",
    "def factorial(n):\n",
    "    fact = 1\n",
    "    for i in range(n, 1, -1):\n",
    "        fact *= i\n",
    "    return fact\n",
    "n = int(input())\n",
    "print(factorial(n))\n",
    "        "
   ]
  },
  {
   "cell_type": "code",
   "execution_count": 18,
   "id": "4f6fa14e-23a9-4291-85c2-8a6057e30c84",
   "metadata": {},
   "outputs": [
    {
     "name": "stdin",
     "output_type": "stream",
     "text": [
      " jfkdnkh\n"
     ]
    },
    {
     "name": "stdout",
     "output_type": "stream",
     "text": [
      "The string is not palindrome\n"
     ]
    }
   ],
   "source": [
    "# 103. Palindrome Checker: Write a Python function called `is_palindrome` that takes a string as input and returns `True` if it is a palindrome and `False` otherwise. Test the function with different words.\n",
    "def is_palindrome(word):\n",
    "    word = word.lower()\n",
    "    reversed = word[::-1]\n",
    "    if reversed == word:\n",
    "        return True\n",
    "    else:\n",
    "        return False\n",
    "word = input()\n",
    "if is_palindrome(word):\n",
    "    print(\"The string is palindrome\")\n",
    "else:\n",
    "    print(\"The string is not palindrome\")\n",
    "    "
   ]
  },
  {
   "cell_type": "code",
   "execution_count": 22,
   "id": "074c6476-5cac-499d-ae5e-ba73554e9988",
   "metadata": {},
   "outputs": [
    {
     "name": "stdin",
     "output_type": "stream",
     "text": [
      " 3\n"
     ]
    },
    {
     "name": "stdout",
     "output_type": "stream",
     "text": [
      "odd\n"
     ]
    }
   ],
   "source": [
    "# 104. Even or Odd Checker: Write a Python function called `even_or_odd` that takes an integer as input and returns “Even” if the number is even and “Odd” if the number is odd. Test the function with different numbers.\n",
    "def even_or_odd(n):\n",
    "    if n%2 == 0:\n",
    "        return \"even\"\n",
    "    else:\n",
    "        return \"odd\"\n",
    "\n",
    "n = int(input())\n",
    "print(even_or_odd(n))\n"
   ]
  },
  {
   "cell_type": "code",
   "execution_count": 26,
   "id": "c09f502c-b466-4bff-bd1c-02c1fae3d07a",
   "metadata": {},
   "outputs": [
    {
     "name": "stdin",
     "output_type": "stream",
     "text": [
      " 1 2 3 4 5\n"
     ]
    },
    {
     "name": "stdout",
     "output_type": "stream",
     "text": [
      "15\n"
     ]
    }
   ],
   "source": [
    "# 105. List Sum Calculator: Write a Python function called `list_sum` that takes a list of integers as input and returns the sum of all elements in the list. Test the function with different lists.\n",
    "def list_sum(lst):\n",
    "    sum = 0\n",
    "    for i in lst:\n",
    "        sum += i\n",
    "    return sum\n",
    "\n",
    "lst = list(map(int, input().split()))\n",
    "print(list_sum(lst))"
   ]
  },
  {
   "cell_type": "code",
   "execution_count": 29,
   "id": "9875d40d-8423-4ee8-b650-fc15ae4a283a",
   "metadata": {},
   "outputs": [
    {
     "name": "stdin",
     "output_type": "stream",
     "text": [
      " 36\n",
      " 48\n"
     ]
    },
    {
     "name": "stdout",
     "output_type": "stream",
     "text": [
      "12\n"
     ]
    }
   ],
   "source": [
    "# 106. Greatest Common Divisor (GCD) Calculator: Write a Python function called `gcd` that takes two integers as input and returns their greatest common divisor. Test the function with different pairs of numbers.\n",
    "\n",
    "def gcd(n1, n2):\n",
    "    if n2==0:\n",
    "        return n1\n",
    "    else:\n",
    "        return gcd(n2, n1%n2)\n",
    "\n",
    "n1 = int(input())\n",
    "n2 = int(input())\n",
    "print(gcd(n1, n2))"
   ]
  },
  {
   "cell_type": "code",
   "execution_count": 34,
   "id": "5529e83b-545d-4666-9360-0a80ed4d448e",
   "metadata": {},
   "outputs": [
    {
     "name": "stdin",
     "output_type": "stream",
     "text": [
      " 2023\n"
     ]
    },
    {
     "name": "stdout",
     "output_type": "stream",
     "text": [
      "2023 Is not a leap year\n"
     ]
    }
   ],
   "source": [
    "# 107. Leap Year Checker: Write a Python function called `is_leap_year` that takes a year as input and returns `True` if it is a leap year and `False` otherwise. Test the function with different years.\n",
    "def is_leap_year(n):\n",
    "    if(n%4==0 and n%100 != 0) or n%400 == 0:\n",
    "        return True\n",
    "    else:\n",
    "        return False\n",
    "\n",
    "year = int(input())\n",
    "if is_leap_year(year):\n",
    "    print(year, \"Is a leap year\")\n",
    "else:\n",
    "    print(year, \"Is not a leap year\")"
   ]
  },
  {
   "cell_type": "markdown",
   "id": "b13a0535-b4d1-423e-b813-baec8c756633",
   "metadata": {},
   "source": [
    "# Nested Functions Problems"
   ]
  },
  {
   "cell_type": "code",
   "execution_count": 38,
   "id": "3b5cfe87-8d8d-4763-8c25-ef1f1bcd3749",
   "metadata": {},
   "outputs": [
    {
     "name": "stdin",
     "output_type": "stream",
     "text": [
      "add or subtract or multiply or divide divide\n"
     ]
    },
    {
     "name": "stdout",
     "output_type": "stream",
     "text": [
      "Result: 1.0\n"
     ]
    }
   ],
   "source": [
    "# 108. Math Operations: Write a Python function called `math_operations` that takes three numbers and a string representing an operation (‘add’, ‘subtract’, ‘multiply’, or ‘divide’). The function should return the result of the specified operation on the three numbers. Implement the math operations as nested functions.\n",
    "\n",
    "def math_operations(num1, num2, num3, operation):\n",
    "    def add(a, b, c):\n",
    "        return a + b + c\n",
    "\n",
    "    def subtract(a, b, c):\n",
    "        return a - b - c\n",
    "\n",
    "    def multiply(a, b, c):\n",
    "        return a * b * c\n",
    "\n",
    "    def divide(a, b, c):\n",
    "        if b == 0 or c == 0:\n",
    "            return \"Division by zero is not allowed\"\n",
    "        else:\n",
    "            return a / b / c\n",
    "\n",
    "    if operation == 'add':\n",
    "        return add(num1, num2, num3)\n",
    "    elif operation == 'subtract':\n",
    "        return subtract(num1, num2, num3)\n",
    "    elif operation == 'multiply':\n",
    "        return multiply(num1, num2, num3)\n",
    "    elif operation == 'divide':\n",
    "        return divide(num1, num2, num3)\n",
    "    else:\n",
    "        return \"Invalid operation\"\n",
    "\n",
    "\n",
    "num1 = 10\n",
    "num2 = 5\n",
    "num3 = 2\n",
    "operation = str(input(\"add or subtract or multiply or divide\"))\n",
    "\n",
    "print(\"Result:\", math_operations(num1, num2, num3, operation))\n",
    "\n",
    "    "
   ]
  },
  {
   "cell_type": "code",
   "execution_count": 39,
   "id": "0c6da247-5336-4a24-b61a-a51e00510bce",
   "metadata": {},
   "outputs": [
    {
     "name": "stdin",
     "output_type": "stream",
     "text": [
      "Enter your name:  Tahim\n"
     ]
    },
    {
     "name": "stdout",
     "output_type": "stream",
     "text": [
      "Hello, Tahim! How are you today?\n"
     ]
    }
   ],
   "source": [
    "# 109. Greeting Generator: Write a Python function called `greeting_generator` that takes a name as input and returns a greeting message using nested functions. The greeting message should be customizable (e.g., “Hello, {name}! How are you today?”).\n",
    "\n",
    "def greeting_generator(name):\n",
    "    def generate_greeting():\n",
    "        return f\"Hello, {name}! How are you today?\"\n",
    "\n",
    "    return generate_greeting()\n",
    "\n",
    "name = input(\"Enter your name: \")\n",
    "print(greeting_generator(name))\n"
   ]
  },
  {
   "cell_type": "code",
   "execution_count": 41,
   "id": "8acaea7b-457e-4e17-a8a4-c4d09ec093b3",
   "metadata": {},
   "outputs": [
    {
     "name": "stdin",
     "output_type": "stream",
     "text": [
      "Enter the temperature value:  50\n",
      "Enter the scale (C for Celsius, F for Fahrenheit):  F\n"
     ]
    },
    {
     "name": "stdout",
     "output_type": "stream",
     "text": [
      "Converted temperature: 122.0\n"
     ]
    }
   ],
   "source": [
    "# 110. Temperature Converter: Write a Python function called `temperature_converter` that takes a temperature value and a string representing the scale (‘C’ for Celsius or ‘F’ for Fahrenheit) as input. The function should convert the temperature from one scale to the other using nested functions and return the converted value.\n",
    "\n",
    "def temperature_converter(temperature, scale):\n",
    "    def celsius_to_fahrenheit(temp_c):\n",
    "        return (temp_c * 9/5) + 32\n",
    "\n",
    "    def fahrenheit_to_celsius(temp_f):\n",
    "        return (temp_f - 32) * 5/9\n",
    "\n",
    "    if scale.upper() == 'C':\n",
    "        return fahrenheit_to_celsius(temperature)\n",
    "    elif scale.upper() == 'F':\n",
    "        return celsius_to_fahrenheit(temperature)\n",
    "    else:\n",
    "        return \"Invalid scale. Please use 'C' for Celsius or 'F' for Fahrenheit.\"\n",
    "\n",
    "temperature = float(input(\"Enter the temperature value: \"))\n",
    "scale = input(\"Enter the scale (C for Celsius, F for Fahrenheit): \")\n",
    "\n",
    "converted_temperature = temperature_converter(temperature, scale)\n",
    "print(\"Converted temperature:\", converted_temperature)\n"
   ]
  },
  {
   "cell_type": "markdown",
   "id": "52dbefe6-2c9b-4956-9e12-64f310e7a8f8",
   "metadata": {},
   "source": [
    "## Recursion"
   ]
  },
  {
   "cell_type": "code",
   "execution_count": 46,
   "id": "afc8828e-8d08-46e0-9860-48eb98776046",
   "metadata": {},
   "outputs": [
    {
     "name": "stdin",
     "output_type": "stream",
     "text": [
      " 5\n"
     ]
    },
    {
     "name": "stdout",
     "output_type": "stream",
     "text": [
      "120\n"
     ]
    }
   ],
   "source": [
    "# 111. Factorial Calculation: Write a recursive Python function called `factorial` that takes a non-negative integer as input and returns its factorial.\n",
    "def factorial(n):\n",
    "    if n <1:\n",
    "        return 1\n",
    "    return n * factorial(n-1)\n",
    "n = int(input())\n",
    "print(factorial(n))"
   ]
  },
  {
   "cell_type": "code",
   "execution_count": 50,
   "id": "d9735efa-42cb-44c4-90ea-d66470fe6573",
   "metadata": {},
   "outputs": [
    {
     "name": "stdin",
     "output_type": "stream",
     "text": [
      "Enter the value of N:  5\n"
     ]
    },
    {
     "name": "stdout",
     "output_type": "stream",
     "text": [
      "0 1 1 2 3 "
     ]
    }
   ],
   "source": [
    "#112. Fibonacci Series: Write a recursive Python function called `Fibonacci` that takes an integer N as input and returns the Nth number in the Fibonacci series. The Fibonacci series is defined as follows: F(0) = 0, F(1) = 1, and F(n) = F(n-1) + F(n-2) for n > 1.\n",
    "def fibonacci(n):\n",
    "    if n == 0:\n",
    "        return 0\n",
    "    elif n == 1:\n",
    "        return 1\n",
    "    else:\n",
    "        return fibonacci(n-1) + fibonacci(n-2)\n",
    "\n",
    "n = int(input(\"Enter the value of N: \"))\n",
    "for i in range(n):\n",
    "    print(fibonacci(i), end=\" \")\n"
   ]
  },
  {
   "cell_type": "code",
   "execution_count": 52,
   "id": "64207a05-9c9e-42a1-89ec-3fb51b64253b",
   "metadata": {},
   "outputs": [
    {
     "name": "stdin",
     "output_type": "stream",
     "text": [
      " 6372\n"
     ]
    },
    {
     "name": "stdout",
     "output_type": "stream",
     "text": [
      "18\n"
     ]
    }
   ],
   "source": [
    "# 113. The sum of Digits: Write a recursive Python function called `sum_of_digits` that takes an integer as input and returns the sum of its digits.\n",
    "def sum_of_digits(n):\n",
    "    if n < 10:\n",
    "        return n\n",
    "    else:\n",
    "        return n%10 + sum_of_digits(n // 10)\n",
    "\n",
    "num = int(input())\n",
    "print( sum_of_digits(num))\n",
    "        \n"
   ]
  },
  {
   "cell_type": "code",
   "execution_count": 53,
   "id": "61dad487-0480-4c94-93ca-aa15b7cb053c",
   "metadata": {},
   "outputs": [
    {
     "name": "stdin",
     "output_type": "stream",
     "text": [
      "Enter the target value to search:  11\n"
     ]
    },
    {
     "name": "stdout",
     "output_type": "stream",
     "text": [
      "Target value 11 found at index 5.\n"
     ]
    }
   ],
   "source": [
    "# 114. Binary Search: Write a recursive Python function called `binary_search` that takes a sorted list and a target value as input and returns the index of the target value in the list using binary search. If the target value is not in the list, return -1.\n",
    "\n",
    "def binary_search(arr, target, low=0, high=None):\n",
    "    if high is None:\n",
    "        high = len(arr) - 1\n",
    "\n",
    "    if low > high:\n",
    "        return -1\n",
    "\n",
    "    mid = (low + high) // 2\n",
    "    if arr[mid] == target:\n",
    "        return mid\n",
    "    elif arr[mid] < target:\n",
    "        return binary_search(arr, target, mid + 1, high)\n",
    "    else:\n",
    "        return binary_search(arr, target, low, mid - 1)\n",
    "\n",
    "sorted_list = [1, 3, 5, 7, 9, 11, 13, 15, 17, 19]\n",
    "target = int(input(\"Enter the target value to search: \"))\n",
    "index = binary_search(sorted_list, target)\n",
    "if index != -1:\n",
    "    print(f\"Target value {target} found at index {index}.\")\n",
    "else:\n",
    "    print(\"Target value not found in the list.\")\n"
   ]
  },
  {
   "cell_type": "code",
   "execution_count": 61,
   "id": "e877bf78-0100-4b7e-bc9c-a751bcf6bc21",
   "metadata": {},
   "outputs": [
    {
     "name": "stdin",
     "output_type": "stream",
     "text": [
      " 4\n",
      " 3\n"
     ]
    },
    {
     "name": "stdout",
     "output_type": "stream",
     "text": [
      "64\n"
     ]
    }
   ],
   "source": [
    "# 115. Power Calculation: Write a recursive Python function called `power` that takes two positive integers, base and exponent, as input and returns the value of base raised to the exponent.\n",
    "\n",
    "def power(b, p):\n",
    "    if p <1:\n",
    "        return 1\n",
    "    else:\n",
    "        return b * power(b, p-1)\n",
    "\n",
    "b = int(input())\n",
    "p = int(input())\n",
    "print(power(b,p))"
   ]
  },
  {
   "cell_type": "code",
   "execution_count": null,
   "id": "c956dfa2-0d97-49d6-b709-d927d646bb71",
   "metadata": {},
   "outputs": [],
   "source": []
  }
 ],
 "metadata": {
  "kernelspec": {
   "display_name": "Python 3 (ipykernel)",
   "language": "python",
   "name": "python3"
  },
  "language_info": {
   "codemirror_mode": {
    "name": "ipython",
    "version": 3
   },
   "file_extension": ".py",
   "mimetype": "text/x-python",
   "name": "python",
   "nbconvert_exporter": "python",
   "pygments_lexer": "ipython3",
   "version": "3.11.7"
  }
 },
 "nbformat": 4,
 "nbformat_minor": 5
}
